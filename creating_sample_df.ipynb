{
 "cells": [
  {
   "cell_type": "markdown",
   "metadata": {},
   "source": [
    "# Creating Sample DF for Data Folder\n",
    "#### John R. Starr; jrs294@pitt.edu\n",
    "\n",
    "Here we go! First, we need to import the modified pickle file."
   ]
  },
  {
   "cell_type": "code",
   "execution_count": 2,
   "metadata": {},
   "outputs": [],
   "source": [
    "import pandas as pd\n",
    "import numpy as np\n",
    "import nltk"
   ]
  },
  {
   "cell_type": "code",
   "execution_count": 3,
   "metadata": {},
   "outputs": [],
   "source": [
    "full_df = pd.read_pickle('full_df_MOD.pkl')"
   ]
  },
  {
   "cell_type": "code",
   "execution_count": 4,
   "metadata": {},
   "outputs": [
    {
     "data": {
      "text/html": [
       "<div>\n",
       "<style scoped>\n",
       "    .dataframe tbody tr th:only-of-type {\n",
       "        vertical-align: middle;\n",
       "    }\n",
       "\n",
       "    .dataframe tbody tr th {\n",
       "        vertical-align: top;\n",
       "    }\n",
       "\n",
       "    .dataframe thead th {\n",
       "        text-align: right;\n",
       "    }\n",
       "</style>\n",
       "<table border=\"1\" class=\"dataframe\">\n",
       "  <thead>\n",
       "    <tr style=\"text-align: right;\">\n",
       "      <th></th>\n",
       "      <th>Eng</th>\n",
       "      <th>Far</th>\n",
       "      <th>Eng_Tok</th>\n",
       "      <th>Far_Tok</th>\n",
       "      <th>Eng_Len</th>\n",
       "      <th>Far_Len</th>\n",
       "      <th>Eng_Types</th>\n",
       "      <th>Far_Types</th>\n",
       "      <th>Far_POS</th>\n",
       "      <th>Far_Chunks</th>\n",
       "      <th>Eng_POS</th>\n",
       "    </tr>\n",
       "    <tr>\n",
       "      <th>ID</th>\n",
       "      <th></th>\n",
       "      <th></th>\n",
       "      <th></th>\n",
       "      <th></th>\n",
       "      <th></th>\n",
       "      <th></th>\n",
       "      <th></th>\n",
       "      <th></th>\n",
       "      <th></th>\n",
       "      <th></th>\n",
       "      <th></th>\n",
       "    </tr>\n",
       "  </thead>\n",
       "  <tbody>\n",
       "    <tr>\n",
       "      <th>1</th>\n",
       "      <td>raspy breathing</td>\n",
       "      <td>صداي خر خر</td>\n",
       "      <td>[raspy, breathing]</td>\n",
       "      <td>[صداي, خر, خر]</td>\n",
       "      <td>2</td>\n",
       "      <td>3</td>\n",
       "      <td>{breathing, raspy}</td>\n",
       "      <td>{صداي, خر}</td>\n",
       "      <td>[(صداي, NUM), (خر, Ne), (خر, N)]</td>\n",
       "      <td>[صداي خر خر NP]</td>\n",
       "      <td>[(raspy, NN), (breathing, NN)]</td>\n",
       "    </tr>\n",
       "    <tr>\n",
       "      <th>2</th>\n",
       "      <td>dad</td>\n",
       "      <td>پدر</td>\n",
       "      <td>[dad]</td>\n",
       "      <td>[پدر]</td>\n",
       "      <td>1</td>\n",
       "      <td>1</td>\n",
       "      <td>{dad}</td>\n",
       "      <td>{پدر}</td>\n",
       "      <td>[(پدر, N)]</td>\n",
       "      <td>[پدر NP]</td>\n",
       "      <td>[(dad, NN)]</td>\n",
       "    </tr>\n",
       "    <tr>\n",
       "      <th>3</th>\n",
       "      <td>maybe its the wind</td>\n",
       "      <td>شايد صداي باد باشه</td>\n",
       "      <td>[maybe, its, the, wind]</td>\n",
       "      <td>[شايد, صداي, باد, باشه]</td>\n",
       "      <td>4</td>\n",
       "      <td>4</td>\n",
       "      <td>{maybe, wind, the, its}</td>\n",
       "      <td>{باشه, صداي, شايد, باد}</td>\n",
       "      <td>[(شايد, Ne), (صداي, AJ), (باد, V), (باشه, V)]</td>\n",
       "      <td>[شايد صداي NP] [باد VP] [باشه VP]</td>\n",
       "      <td>[(maybe, RB), (its, PRP$), (the, DT), (wind, NN)]</td>\n",
       "    </tr>\n",
       "    <tr>\n",
       "      <th>4</th>\n",
       "      <td>no</td>\n",
       "      <td>نه</td>\n",
       "      <td>[no]</td>\n",
       "      <td>[نه]</td>\n",
       "      <td>1</td>\n",
       "      <td>1</td>\n",
       "      <td>{no}</td>\n",
       "      <td>{نه}</td>\n",
       "      <td>[(نه, ADV)]</td>\n",
       "      <td>نه</td>\n",
       "      <td>[(no, DT)]</td>\n",
       "    </tr>\n",
       "    <tr>\n",
       "      <th>5</th>\n",
       "      <td>stop please stop</td>\n",
       "      <td>دست نگه داريد خواهش ميکنم دست نگه داريد</td>\n",
       "      <td>[stop, please, stop]</td>\n",
       "      <td>[دست, نگه, داريد, خواهش, ميکنم, دست, نگه, داريد]</td>\n",
       "      <td>3</td>\n",
       "      <td>8</td>\n",
       "      <td>{stop, please}</td>\n",
       "      <td>{دست, ميکنم, داريد, خواهش, نگه}</td>\n",
       "      <td>[(دست, N), (نگه, N), (داريد, V), (خواهش, Ne), ...</td>\n",
       "      <td>[دست NP] [نگه داريد VP] [خواهش ميکنم دست NP] [...</td>\n",
       "      <td>[(stop, JJ), (please, NN), (stop, VB)]</td>\n",
       "    </tr>\n",
       "  </tbody>\n",
       "</table>\n",
       "</div>"
      ],
      "text/plain": [
       "                   Eng                                      Far  \\\n",
       "ID                                                                \n",
       "1      raspy breathing                               صداي خر خر   \n",
       "2                  dad                                      پدر   \n",
       "3   maybe its the wind                       شايد صداي باد باشه   \n",
       "4                   no                                       نه   \n",
       "5     stop please stop  دست نگه داريد خواهش ميکنم دست نگه داريد   \n",
       "\n",
       "                    Eng_Tok                                           Far_Tok  \\\n",
       "ID                                                                              \n",
       "1        [raspy, breathing]                                    [صداي, خر, خر]   \n",
       "2                     [dad]                                             [پدر]   \n",
       "3   [maybe, its, the, wind]                           [شايد, صداي, باد, باشه]   \n",
       "4                      [no]                                              [نه]   \n",
       "5      [stop, please, stop]  [دست, نگه, داريد, خواهش, ميکنم, دست, نگه, داريد]   \n",
       "\n",
       "    Eng_Len  Far_Len                Eng_Types  \\\n",
       "ID                                              \n",
       "1         2        3       {breathing, raspy}   \n",
       "2         1        1                    {dad}   \n",
       "3         4        4  {maybe, wind, the, its}   \n",
       "4         1        1                     {no}   \n",
       "5         3        8           {stop, please}   \n",
       "\n",
       "                          Far_Types  \\\n",
       "ID                                    \n",
       "1                        {صداي, خر}   \n",
       "2                             {پدر}   \n",
       "3           {باشه, صداي, شايد, باد}   \n",
       "4                              {نه}   \n",
       "5   {دست, ميکنم, داريد, خواهش, نگه}   \n",
       "\n",
       "                                              Far_POS  \\\n",
       "ID                                                      \n",
       "1                    [(صداي, NUM), (خر, Ne), (خر, N)]   \n",
       "2                                          [(پدر, N)]   \n",
       "3       [(شايد, Ne), (صداي, AJ), (باد, V), (باشه, V)]   \n",
       "4                                         [(نه, ADV)]   \n",
       "5   [(دست, N), (نگه, N), (داريد, V), (خواهش, Ne), ...   \n",
       "\n",
       "                                           Far_Chunks  \\\n",
       "ID                                                      \n",
       "1                                     [صداي خر خر NP]   \n",
       "2                                            [پدر NP]   \n",
       "3                   [شايد صداي NP] [باد VP] [باشه VP]   \n",
       "4                                                  نه   \n",
       "5   [دست NP] [نگه داريد VP] [خواهش ميکنم دست NP] [...   \n",
       "\n",
       "                                              Eng_POS  \n",
       "ID                                                     \n",
       "1                      [(raspy, NN), (breathing, NN)]  \n",
       "2                                         [(dad, NN)]  \n",
       "3   [(maybe, RB), (its, PRP$), (the, DT), (wind, NN)]  \n",
       "4                                          [(no, DT)]  \n",
       "5              [(stop, JJ), (please, NN), (stop, VB)]  "
      ]
     },
     "execution_count": 4,
     "metadata": {},
     "output_type": "execute_result"
    }
   ],
   "source": [
    "full_df.head()"
   ]
  },
  {
   "cell_type": "markdown",
   "metadata": {},
   "source": [
    "Sweet! Since I cannot run my tagging_chunking.jpynb file on my computer, I will create a sample pickle file for data purposes here:"
   ]
  },
  {
   "cell_type": "code",
   "execution_count": 5,
   "metadata": {},
   "outputs": [],
   "source": [
    "sample_df = full_df.loc[:50]"
   ]
  },
  {
   "cell_type": "code",
   "execution_count": 7,
   "metadata": {},
   "outputs": [],
   "source": [
    "sample_df.to_pickle('sample_df.pkl')"
   ]
  },
  {
   "cell_type": "markdown",
   "metadata": {},
   "source": [
    "This file will be moved to my data folder."
   ]
  },
  {
   "cell_type": "code",
   "execution_count": null,
   "metadata": {},
   "outputs": [],
   "source": []
  }
 ],
 "metadata": {
  "kernelspec": {
   "display_name": "Python 3",
   "language": "python",
   "name": "python3"
  },
  "language_info": {
   "codemirror_mode": {
    "name": "ipython",
    "version": 3
   },
   "file_extension": ".py",
   "mimetype": "text/x-python",
   "name": "python",
   "nbconvert_exporter": "python",
   "pygments_lexer": "ipython3",
   "version": "3.7.1"
  }
 },
 "nbformat": 4,
 "nbformat_minor": 2
}
