{
 "cells": [
  {
   "cell_type": "markdown",
   "metadata": {},
   "source": [
    "# Generalizing Chunks\n",
    "#### John R. Starr; jrs294@pitt.edu\n",
    "Now that we have all of the data POS-tagged and chunked, it's time to generalize the chunks into categories: SOV, SVO, and an \"extraneous\" column EX (which will probably be filled by mis-parsed/mis-chunked data). At the most basic level, I intend on examining the number of noun phrases before the verb. If there are two, then we'll make it one. \n",
    "\n",
    "NOTE: I understand that the chunked data I have is by no means perfect; this is one of the limitations of my project.\n",
    "\n",
    "All right, let's load in the usual stuff:"
   ]
  },
  {
   "cell_type": "code",
   "execution_count": 1,
   "metadata": {},
   "outputs": [],
   "source": [
    "import nltk\n",
    "import numpy as np\n",
    "import pandas as pd"
   ]
  },
  {
   "cell_type": "code",
   "execution_count": 2,
   "metadata": {},
   "outputs": [],
   "source": [
    "full_df = pd.read_pickle('tagged_chunked_df.pkl')"
   ]
  },
  {
   "cell_type": "code",
   "execution_count": 3,
   "metadata": {},
   "outputs": [
    {
     "data": {
      "text/html": [
       "<div>\n",
       "<style scoped>\n",
       "    .dataframe tbody tr th:only-of-type {\n",
       "        vertical-align: middle;\n",
       "    }\n",
       "\n",
       "    .dataframe tbody tr th {\n",
       "        vertical-align: top;\n",
       "    }\n",
       "\n",
       "    .dataframe thead th {\n",
       "        text-align: right;\n",
       "    }\n",
       "</style>\n",
       "<table border=\"1\" class=\"dataframe\">\n",
       "  <thead>\n",
       "    <tr style=\"text-align: right;\">\n",
       "      <th></th>\n",
       "      <th>Eng</th>\n",
       "      <th>Far</th>\n",
       "      <th>Eng_Tok</th>\n",
       "      <th>Far_Tok</th>\n",
       "      <th>Eng_Len</th>\n",
       "      <th>Far_Len</th>\n",
       "      <th>Eng_Types</th>\n",
       "      <th>Far_Types</th>\n",
       "      <th>Far_POS</th>\n",
       "      <th>Far_Chunks</th>\n",
       "      <th>Eng_POS</th>\n",
       "      <th>Eng_Chunks</th>\n",
       "    </tr>\n",
       "    <tr>\n",
       "      <th>ID</th>\n",
       "      <th></th>\n",
       "      <th></th>\n",
       "      <th></th>\n",
       "      <th></th>\n",
       "      <th></th>\n",
       "      <th></th>\n",
       "      <th></th>\n",
       "      <th></th>\n",
       "      <th></th>\n",
       "      <th></th>\n",
       "      <th></th>\n",
       "      <th></th>\n",
       "    </tr>\n",
       "  </thead>\n",
       "  <tbody>\n",
       "    <tr>\n",
       "      <th>1</th>\n",
       "      <td>raspy breathing</td>\n",
       "      <td>صداي خر خر</td>\n",
       "      <td>[raspy, breathing]</td>\n",
       "      <td>[صداي, خر, خر]</td>\n",
       "      <td>2</td>\n",
       "      <td>3</td>\n",
       "      <td>{breathing, raspy}</td>\n",
       "      <td>{صداي, خر}</td>\n",
       "      <td>[(صداي, NUM), (خر, Ne), (خر, N)]</td>\n",
       "      <td>[صداي خر خر NP]</td>\n",
       "      <td>[(raspy, NN), (breathing, NN)]</td>\n",
       "      <td>[[(raspy, NN), (breathing, NN)]]</td>\n",
       "    </tr>\n",
       "    <tr>\n",
       "      <th>2</th>\n",
       "      <td>dad</td>\n",
       "      <td>پدر</td>\n",
       "      <td>[dad]</td>\n",
       "      <td>[پدر]</td>\n",
       "      <td>1</td>\n",
       "      <td>1</td>\n",
       "      <td>{dad}</td>\n",
       "      <td>{پدر}</td>\n",
       "      <td>[(پدر, N)]</td>\n",
       "      <td>[پدر NP]</td>\n",
       "      <td>[(dad, NN)]</td>\n",
       "      <td>[[(dad, NN)]]</td>\n",
       "    </tr>\n",
       "    <tr>\n",
       "      <th>3</th>\n",
       "      <td>maybe its the wind</td>\n",
       "      <td>شايد صداي باد باشه</td>\n",
       "      <td>[maybe, its, the, wind]</td>\n",
       "      <td>[شايد, صداي, باد, باشه]</td>\n",
       "      <td>4</td>\n",
       "      <td>4</td>\n",
       "      <td>{wind, maybe, its, the}</td>\n",
       "      <td>{باشه, صداي, شايد, باد}</td>\n",
       "      <td>[(شايد, Ne), (صداي, AJ), (باد, V), (باشه, V)]</td>\n",
       "      <td>[شايد صداي NP] [باد VP] [باشه VP]</td>\n",
       "      <td>[(maybe, RB), (its, PRP$), (the, DT), (wind, NN)]</td>\n",
       "      <td>[(maybe, RB), (its, PRP$), [(the, DT), (wind, ...</td>\n",
       "    </tr>\n",
       "    <tr>\n",
       "      <th>4</th>\n",
       "      <td>no</td>\n",
       "      <td>نه</td>\n",
       "      <td>[no]</td>\n",
       "      <td>[نه]</td>\n",
       "      <td>1</td>\n",
       "      <td>1</td>\n",
       "      <td>{no}</td>\n",
       "      <td>{نه}</td>\n",
       "      <td>[(نه, ADV)]</td>\n",
       "      <td>نه</td>\n",
       "      <td>[(no, DT)]</td>\n",
       "      <td>[[(no, DT)]]</td>\n",
       "    </tr>\n",
       "    <tr>\n",
       "      <th>5</th>\n",
       "      <td>stop please stop</td>\n",
       "      <td>دست نگه داريد خواهش ميکنم دست نگه داريد</td>\n",
       "      <td>[stop, please, stop]</td>\n",
       "      <td>[دست, نگه, داريد, خواهش, ميکنم, دست, نگه, داريد]</td>\n",
       "      <td>3</td>\n",
       "      <td>8</td>\n",
       "      <td>{stop, please}</td>\n",
       "      <td>{داريد, ميکنم, خواهش, دست, نگه}</td>\n",
       "      <td>[(دست, N), (نگه, N), (داريد, V), (خواهش, Ne), ...</td>\n",
       "      <td>[دست NP] [نگه داريد VP] [خواهش ميکنم دست NP] [...</td>\n",
       "      <td>[(stop, JJ), (please, NN), (stop, VB)]</td>\n",
       "      <td>[[(stop, JJ), (please, NN)], [[('stop', 'VB')]]]</td>\n",
       "    </tr>\n",
       "  </tbody>\n",
       "</table>\n",
       "</div>"
      ],
      "text/plain": [
       "                   Eng                                      Far  \\\n",
       "ID                                                                \n",
       "1      raspy breathing                               صداي خر خر   \n",
       "2                  dad                                      پدر   \n",
       "3   maybe its the wind                       شايد صداي باد باشه   \n",
       "4                   no                                       نه   \n",
       "5     stop please stop  دست نگه داريد خواهش ميکنم دست نگه داريد   \n",
       "\n",
       "                    Eng_Tok                                           Far_Tok  \\\n",
       "ID                                                                              \n",
       "1        [raspy, breathing]                                    [صداي, خر, خر]   \n",
       "2                     [dad]                                             [پدر]   \n",
       "3   [maybe, its, the, wind]                           [شايد, صداي, باد, باشه]   \n",
       "4                      [no]                                              [نه]   \n",
       "5      [stop, please, stop]  [دست, نگه, داريد, خواهش, ميکنم, دست, نگه, داريد]   \n",
       "\n",
       "    Eng_Len  Far_Len                Eng_Types  \\\n",
       "ID                                              \n",
       "1         2        3       {breathing, raspy}   \n",
       "2         1        1                    {dad}   \n",
       "3         4        4  {wind, maybe, its, the}   \n",
       "4         1        1                     {no}   \n",
       "5         3        8           {stop, please}   \n",
       "\n",
       "                          Far_Types  \\\n",
       "ID                                    \n",
       "1                        {صداي, خر}   \n",
       "2                             {پدر}   \n",
       "3           {باشه, صداي, شايد, باد}   \n",
       "4                              {نه}   \n",
       "5   {داريد, ميکنم, خواهش, دست, نگه}   \n",
       "\n",
       "                                              Far_POS  \\\n",
       "ID                                                      \n",
       "1                    [(صداي, NUM), (خر, Ne), (خر, N)]   \n",
       "2                                          [(پدر, N)]   \n",
       "3       [(شايد, Ne), (صداي, AJ), (باد, V), (باشه, V)]   \n",
       "4                                         [(نه, ADV)]   \n",
       "5   [(دست, N), (نگه, N), (داريد, V), (خواهش, Ne), ...   \n",
       "\n",
       "                                           Far_Chunks  \\\n",
       "ID                                                      \n",
       "1                                     [صداي خر خر NP]   \n",
       "2                                            [پدر NP]   \n",
       "3                   [شايد صداي NP] [باد VP] [باشه VP]   \n",
       "4                                                  نه   \n",
       "5   [دست NP] [نگه داريد VP] [خواهش ميکنم دست NP] [...   \n",
       "\n",
       "                                              Eng_POS  \\\n",
       "ID                                                      \n",
       "1                      [(raspy, NN), (breathing, NN)]   \n",
       "2                                         [(dad, NN)]   \n",
       "3   [(maybe, RB), (its, PRP$), (the, DT), (wind, NN)]   \n",
       "4                                          [(no, DT)]   \n",
       "5              [(stop, JJ), (please, NN), (stop, VB)]   \n",
       "\n",
       "                                           Eng_Chunks  \n",
       "ID                                                     \n",
       "1                    [[(raspy, NN), (breathing, NN)]]  \n",
       "2                                       [[(dad, NN)]]  \n",
       "3   [(maybe, RB), (its, PRP$), [(the, DT), (wind, ...  \n",
       "4                                        [[(no, DT)]]  \n",
       "5    [[(stop, JJ), (please, NN)], [[('stop', 'VB')]]]  "
      ]
     },
     "execution_count": 3,
     "metadata": {},
     "output_type": "execute_result"
    }
   ],
   "source": [
    "full_df.head()"
   ]
  },
  {
   "cell_type": "markdown",
   "metadata": {},
   "source": [
    "Rather than working on the full DF, let's create a smaller one that we can run functions on faster...:"
   ]
  },
  {
   "cell_type": "code",
   "execution_count": 4,
   "metadata": {},
   "outputs": [],
   "source": [
    "small_df = full_df.iloc[:100]"
   ]
  },
  {
   "cell_type": "markdown",
   "metadata": {},
   "source": [
    "Let's see what type of data we're working with. Because we're looking for the abnormalities in Persian word order, we only need to focus on that data. So, what's it all look like?"
   ]
  },
  {
   "cell_type": "code",
   "execution_count": 5,
   "metadata": {},
   "outputs": [
    {
     "name": "stdout",
     "output_type": "stream",
     "text": [
      "[صداي خر خر NP]\n",
      "[\n",
      "\n",
      "[پدر NP]\n",
      "[\n",
      "\n",
      "[شايد صداي NP] [باد VP] [باشه VP]\n",
      "[\n",
      "\n",
      "نه\n",
      "ن\n",
      "\n",
      "[دست NP] [نگه داريد VP] [خواهش ميکنم دست NP] [نگه داريد VP]\n",
      "[\n",
      "\n"
     ]
    }
   ],
   "source": [
    "# Gathering some information on the Persian data:\n",
    "for item in small_df.Far_Chunks.iloc[:5]:\n",
    "    print(item)\n",
    "    print(item[0])\n",
    "    print()"
   ]
  },
  {
   "cell_type": "markdown",
   "metadata": {},
   "source": [
    "Ah.. it seems that our data is in string format...! This makes things a little more annoying to navigate. If only the data were in tuple form! Oh well...  Let's try using RegEx to search through this and get the word order that we want.\n",
    "\n",
    "NOTE: Persian reads from right-to-left; however, the chunker flips the sentence backward so that it can be read \"left-to-right\" and can be more easily compared with languages like English. If this is confusing now, I'll explain more in my presentation."
   ]
  },
  {
   "cell_type": "code",
   "execution_count": 6,
   "metadata": {},
   "outputs": [],
   "source": [
    "# Importing...\n",
    "import re"
   ]
  },
  {
   "cell_type": "markdown",
   "metadata": {},
   "source": [
    "Let's try a test regex that looks for SVO word-order:"
   ]
  },
  {
   "cell_type": "code",
   "execution_count": 7,
   "metadata": {},
   "outputs": [
    {
     "data": {
      "text/plain": [
       "33"
      ]
     },
     "execution_count": 7,
     "metadata": {},
     "output_type": "execute_result"
    }
   ],
   "source": [
    "# SVO\n",
    "SVO_test = []\n",
    "for x in small_df.Far_Chunks:\n",
    "    if re.findall('(NP)[^NP]*VP[^VP]*(NP)+[^VP]*', x):\n",
    "        # The goal of the regex is as follows:\n",
    "            # One NP, then any characters besides another NP, then a VP, then an NP (presumably the object)\n",
    "        SVO_test.append(x)\n",
    "len(SVO_test)"
   ]
  },
  {
   "cell_type": "markdown",
   "metadata": {},
   "source": [
    "What kind of sentences are we looking at right now?"
   ]
  },
  {
   "cell_type": "code",
   "execution_count": 8,
   "metadata": {},
   "outputs": [
    {
     "data": {
      "text/plain": [
       "['[مارک اول اينکه من NP] [ميخوام شما NP] [پسرهارو NP] [با PP] [خودم NP] [ببرم VP] و [ما NP] [گله NP] [را POSTP] [جمع NP] [خواهيم کرد VP] [بعد ADVP] [من NP] [به PP] [شهر ميرم NP]',\n",
       " '[من NP] [به PP] [هلندر NP] [ميگم VP] که [اينو NP] [درستش ADJP] [کنه VP]',\n",
       " '[من NP] [بهش NP] [ميگم VP] [پول يک اسطبل NP] [جديدو بده VP]',\n",
       " '[شايد ما NP] [بايد VP] [بهش PP] [تير NP] [اندازي VP] کنيم [همونجور NP] که [ويل ميگه NP]',\n",
       " '[تو NP] [بايد VP] [ميگذاشتي من NP] [علوفه هارو NP] [نگه دارم VP]',\n",
       " '[يه NP] [روزي VP] که [مثل PP] [من NP] [شدي VP] [تو NP] [اونوقت ميفهمي NP]',\n",
       " '[خوب ADJP] [يک نگاه NP] [به PP] [اينا NP] [ميکني VP] [همه چيزهايي NP] که [داري PP] [هيچ مصرفي NP] [نداره VP]',\n",
       " '[هيچ چيزي NP] [عوض نميشه VP] اگر [من NP] [زنده ADJP] [بمونم VP]',\n",
       " '[ميخوام NP] که [پول هارو NP] [بذارين زمين NP] [بريد VP] [عقب بهشون ADJP] [بگو VP] [برن NP] [عقب ADVP] [يا اين مرد ميميره NP]',\n",
       " '[الان ADVP] [ميدونم VP] که [چارلي NP] [بهت PP] [چي گفته NP] [براي VP] اينکه [ما NP] چيزي [تو NP] [اين گروه NP] [نداريم VP] [بجز PP] [چندتا قانون NP]']"
      ]
     },
     "execution_count": 8,
     "metadata": {},
     "output_type": "execute_result"
    }
   ],
   "source": [
    "SVO_test[10:20]"
   ]
  },
  {
   "cell_type": "markdown",
   "metadata": {},
   "source": [
    "Unfortunately, my chunker isn't the best. There are some clear errors with its labeling. For example, the first sentence up above has the [ميخوام شما] labeled as an \"NP\", even though \"میخواهم\" is a verb. It also doesn't take into account colloquial spellings of certain verbs [برم]...! The reason behind this is that Persian varies greatly between its spoken and written forms.\n",
    "\n",
    "All things considered, though, this looks pretty good! The patterns I want are all in the data as best that the chunker allows...!\n",
    "\n",
    "Now, let's check out SOV sentences. I predict that there will be more of these:"
   ]
  },
  {
   "cell_type": "code",
   "execution_count": 9,
   "metadata": {},
   "outputs": [
    {
     "data": {
      "text/plain": [
       "38"
      ]
     },
     "execution_count": 9,
     "metadata": {},
     "output_type": "execute_result"
    }
   ],
   "source": [
    "# SOV\n",
    "SOV_test = []\n",
    "for x in small_df.Far_Chunks[:100]:\n",
    "    if re.findall('(NP)[^VP]*(NP)+(VP)*[^NP]', x):\n",
    "        SOV_test.append(x)\n",
    "len(SOV_test)"
   ]
  },
  {
   "cell_type": "code",
   "execution_count": 10,
   "metadata": {},
   "outputs": [
    {
     "data": {
      "text/plain": [
       "['[تو NP] [ميخواي NP] [به PP] [مارشال NP] [بگي VP] که [اون آدما چيکار کردن NP]',\n",
       " '[مارک اول اينکه من NP] [ميخوام شما NP] [پسرهارو NP] [با PP] [خودم NP] [ببرم VP] و [ما NP] [گله NP] [را POSTP] [جمع NP] [خواهيم کرد VP] [بعد ADVP] [من NP] [به PP] [شهر ميرم NP]',\n",
       " '[من NP] [بهش NP] [ميگم VP] [پول يک اسطبل NP] [جديدو بده VP]',\n",
       " '[شايد ما NP] [بايد VP] [بهش PP] [تير NP] [اندازي VP] کنيم [همونجور NP] که [ويل ميگه NP]',\n",
       " '[دور NP] [تا PP] [دورش NP] [از PP] [آهنه يک NP] [چيزايي بالاش NP] [دوتا شاتگان زن و يک تيربار NP]',\n",
       " '[تو NP] [بايد VP] [ميگذاشتي من NP] [علوفه هارو NP] [نگه دارم VP]',\n",
       " '[يه NP] [روزي VP] که [مثل PP] [من NP] [شدي VP] [تو NP] [اونوقت ميفهمي NP]',\n",
       " '[اون تويي NP] [خانم کوچولو NP]',\n",
       " '[من NP] [بايد VP] [بگم VP] که [احتمالا ADVP] [بي PP] [ارزشتر NP] [از PP] [اونيه NP] که [من NP] [بخوام VP] [چيزي ازش بدزدم VP]',\n",
       " '[من NP] [تورو NP] [نميخوام بکشم VP]']"
      ]
     },
     "execution_count": 10,
     "metadata": {},
     "output_type": "execute_result"
    }
   ],
   "source": [
    "SOV_test[10:20]"
   ]
  },
  {
   "cell_type": "markdown",
   "metadata": {},
   "source": [
    "This looks a _lot_ better than the SVO output, which isn't unexpected -- since Persian tends towards SOV word order, it makes sense that the data here is much cleaner. Now let's build a function that will do all this automatically...! We're going to look for SVO, SOV, and \"Other\" word order, with \"Other\" covering the sentence fragments or other strange speech patterns that appear in everyday language."
   ]
  },
  {
   "cell_type": "markdown",
   "metadata": {},
   "source": [
    "Building the function:"
   ]
  },
  {
   "cell_type": "code",
   "execution_count": 11,
   "metadata": {},
   "outputs": [],
   "source": [
    "def gen_word_order(text):\n",
    "    if re.findall('(NP)[^NP]*VP[^VP]*(NP)+[^VP]*', text):\n",
    "        return 'SVO'\n",
    "    elif re.findall('(NP)[^VP]*(NP)+(VP)*[^NP]', text):\n",
    "        return 'SOV'\n",
    "    else:\n",
    "        return 'Other'"
   ]
  },
  {
   "cell_type": "markdown",
   "metadata": {},
   "source": [
    "How's it apply to our small_df?"
   ]
  },
  {
   "cell_type": "code",
   "execution_count": 12,
   "metadata": {},
   "outputs": [
    {
     "name": "stderr",
     "output_type": "stream",
     "text": [
      "C:\\Users\\16starjo\\Documents\\Anaconda3\\lib\\site-packages\\ipykernel_launcher.py:1: SettingWithCopyWarning: \n",
      "A value is trying to be set on a copy of a slice from a DataFrame.\n",
      "Try using .loc[row_indexer,col_indexer] = value instead\n",
      "\n",
      "See the caveats in the documentation: http://pandas.pydata.org/pandas-docs/stable/indexing.html#indexing-view-versus-copy\n",
      "  \"\"\"Entry point for launching an IPython kernel.\n"
     ]
    }
   ],
   "source": [
    "small_df['Word_Order'] = small_df['Far_Chunks'].apply(gen_word_order)"
   ]
  },
  {
   "cell_type": "code",
   "execution_count": 13,
   "metadata": {},
   "outputs": [
    {
     "data": {
      "text/html": [
       "<div>\n",
       "<style scoped>\n",
       "    .dataframe tbody tr th:only-of-type {\n",
       "        vertical-align: middle;\n",
       "    }\n",
       "\n",
       "    .dataframe tbody tr th {\n",
       "        vertical-align: top;\n",
       "    }\n",
       "\n",
       "    .dataframe thead th {\n",
       "        text-align: right;\n",
       "    }\n",
       "</style>\n",
       "<table border=\"1\" class=\"dataframe\">\n",
       "  <thead>\n",
       "    <tr style=\"text-align: right;\">\n",
       "      <th></th>\n",
       "      <th>Eng</th>\n",
       "      <th>Far</th>\n",
       "      <th>Eng_Tok</th>\n",
       "      <th>Far_Tok</th>\n",
       "      <th>Eng_Len</th>\n",
       "      <th>Far_Len</th>\n",
       "      <th>Eng_Types</th>\n",
       "      <th>Far_Types</th>\n",
       "      <th>Far_POS</th>\n",
       "      <th>Far_Chunks</th>\n",
       "      <th>Eng_POS</th>\n",
       "      <th>Eng_Chunks</th>\n",
       "      <th>Word_Order</th>\n",
       "    </tr>\n",
       "    <tr>\n",
       "      <th>ID</th>\n",
       "      <th></th>\n",
       "      <th></th>\n",
       "      <th></th>\n",
       "      <th></th>\n",
       "      <th></th>\n",
       "      <th></th>\n",
       "      <th></th>\n",
       "      <th></th>\n",
       "      <th></th>\n",
       "      <th></th>\n",
       "      <th></th>\n",
       "      <th></th>\n",
       "      <th></th>\n",
       "    </tr>\n",
       "  </thead>\n",
       "  <tbody>\n",
       "    <tr>\n",
       "      <th>91</th>\n",
       "      <td>by mr ben wade himself</td>\n",
       "      <td>بوسيله خود بن ويد</td>\n",
       "      <td>[by, mr, ben, wade, himself]</td>\n",
       "      <td>[بوسيله, خود, بن, ويد]</td>\n",
       "      <td>5</td>\n",
       "      <td>4</td>\n",
       "      <td>{mr, by, ben, wade, himself}</td>\n",
       "      <td>{خود, بوسيله, ويد, بن}</td>\n",
       "      <td>[(بوسيله, Ne), (خود, PRO), (بن, Ne), (ويد, N)]</td>\n",
       "      <td>[بوسيله خود بن ويد NP]</td>\n",
       "      <td>[(by, IN), (mr, JJ), (ben, NN), (wade, VBD), (...</td>\n",
       "      <td>[[[('by', 'IN')], [('mr', 'JJ'), ('ben', 'NN')...</td>\n",
       "      <td>Other</td>\n",
       "    </tr>\n",
       "    <tr>\n",
       "      <th>92</th>\n",
       "      <td>how did you know it was wade</td>\n",
       "      <td>تو از کجا فهميدي که اون ويد بود</td>\n",
       "      <td>[how, did, you, know, it, was, wade]</td>\n",
       "      <td>[تو, از, کجا, فهميدي, که, اون, ويد, بود]</td>\n",
       "      <td>7</td>\n",
       "      <td>8</td>\n",
       "      <td>{did, was, how, know, wade, you, it}</td>\n",
       "      <td>{از, بود, کجا, که, تو, فهميدي, ويد, اون}</td>\n",
       "      <td>[(تو, PRO), (از, P), (کجا, ADV), (فهميدي, V), ...</td>\n",
       "      <td>[تو NP] [از PP] [کجا NP] [فهميدي VP] که [اون و...</td>\n",
       "      <td>[(how, WRB), (did, VBD), (you, PRP), (know, VB...</td>\n",
       "      <td>[(how, WRB), [[('did', 'VBD')]], (you, PRP), [...</td>\n",
       "      <td>SVO</td>\n",
       "    </tr>\n",
       "    <tr>\n",
       "      <th>93</th>\n",
       "      <td>its been him the last 21 times  marshal</td>\n",
       "      <td>اون خودش بود توي 21 بار قبلي مارشال</td>\n",
       "      <td>[its, been, him, the, last, 21, times, marshal]</td>\n",
       "      <td>[اون, خودش, بود, توي, 21, بار, قبلي, مارشال]</td>\n",
       "      <td>8</td>\n",
       "      <td>8</td>\n",
       "      <td>{last, its, the, 21, marshal, him, been, times}</td>\n",
       "      <td>{بود, 21, مارشال, خودش, قبلي, توي, بار, اون}</td>\n",
       "      <td>[(اون, PRO), (خودش, PRO), (بود, V), (توي, N), ...</td>\n",
       "      <td>[اون NP] [خودش NP] [بود VP] [توي NP] [21 بار A...</td>\n",
       "      <td>[(its, PRP$), (been, VBN), (him, PRP), (the, D...</td>\n",
       "      <td>[(its, PRP$), [[('been', 'VBN')]], (him, PRP),...</td>\n",
       "      <td>SVO</td>\n",
       "    </tr>\n",
       "    <tr>\n",
       "      <th>94</th>\n",
       "      <td>i saw a mexican sharpshooter and an apache</td>\n",
       "      <td>من يک تير انداز ماهر مکزيکي و يک آپاچي باهاش ديدم</td>\n",
       "      <td>[i, saw, a, mexican, sharpshooter, and, an, ap...</td>\n",
       "      <td>[من, يک, تير, انداز, ماهر, مکزيکي, و, يک, آپاچ...</td>\n",
       "      <td>8</td>\n",
       "      <td>11</td>\n",
       "      <td>{apache, a, sharpshooter, i, mexican, and, an,...</td>\n",
       "      <td>{يک, آپاچي, انداز, و, تير, مکزيکي, باهاش, من, ...</td>\n",
       "      <td>[(من, PRO), (يک, NUM), (تير, Ne), (انداز, AJe)...</td>\n",
       "      <td>[من NP] [يک تير انداز ماهر NP] [مکزيکي VP] و [...</td>\n",
       "      <td>[(i, NN), (saw, VBD), (a, DT), (mexican, JJ), ...</td>\n",
       "      <td>[[(i, NN)], [[('saw', 'VBD')], [('a', 'DT'), (...</td>\n",
       "      <td>SVO</td>\n",
       "    </tr>\n",
       "    <tr>\n",
       "      <th>95</th>\n",
       "      <td>did you see the hand of god whats that</td>\n",
       "      <td>تو دست خدا را ديدي اون چيه ديگه</td>\n",
       "      <td>[did, you, see, the, hand, of, god, whats, that]</td>\n",
       "      <td>[تو, دست, خدا, را, ديدي, اون, چيه, ديگه]</td>\n",
       "      <td>9</td>\n",
       "      <td>8</td>\n",
       "      <td>{hand, the, did, whats, you, god, that, of, see}</td>\n",
       "      <td>{تو, ديگه, چيه, ديدي, را, خدا, دست, اون}</td>\n",
       "      <td>[(تو, PRO), (دست, Ne), (خدا, N), (را, POSTP), ...</td>\n",
       "      <td>[تو NP] [دست خدا NP] [را POSTP] [ديدي PP] [اون...</td>\n",
       "      <td>[(did, VBD), (you, PRP), (see, VB), (the, DT),...</td>\n",
       "      <td>[[[('did', 'VBD')]], (you, PRP), [[('see', 'VB...</td>\n",
       "      <td>SOV</td>\n",
       "    </tr>\n",
       "    <tr>\n",
       "      <th>96</th>\n",
       "      <td>his pistol why the hell didnt you do something</td>\n",
       "      <td>هفت تيرش چرا تو هيچ کاري نکردي</td>\n",
       "      <td>[his, pistol, why, the, hell, didnt, you, do, ...</td>\n",
       "      <td>[هفت, تيرش, چرا, تو, هيچ, کاري, نکردي]</td>\n",
       "      <td>9</td>\n",
       "      <td>7</td>\n",
       "      <td>{the, his, something, didnt, pistol, you, why,...</td>\n",
       "      <td>{چرا, نکردي, تو, هيچ, تيرش, هفت, کاري}</td>\n",
       "      <td>[(هفت, NUM), (تيرش, N), (چرا, ADV), (تو, PRO),...</td>\n",
       "      <td>[هفت تيرش NP] [چرا ADVP] [تو NP] [هيچ کاري NP]...</td>\n",
       "      <td>[(his, PRP$), (pistol, NN), (why, WRB), (the, ...</td>\n",
       "      <td>[(his, PRP$), [(pistol, NN)], (why, WRB), [(th...</td>\n",
       "      <td>SVO</td>\n",
       "    </tr>\n",
       "    <tr>\n",
       "      <th>97</th>\n",
       "      <td>they had a lot of weapons  mr and they were sh...</td>\n",
       "      <td>اونا کلي اسلحه داشتن آقا و اونا گلوله شليک ميکردن</td>\n",
       "      <td>[they, had, a, lot, of, weapons, mr, and, they...</td>\n",
       "      <td>[اونا, کلي, اسلحه, داشتن, آقا, و, اونا, گلوله,...</td>\n",
       "      <td>12</td>\n",
       "      <td>10</td>\n",
       "      <td>{a, shooting, lot, mr, had, were, they, and, b...</td>\n",
       "      <td>{اسلحه, و, اونا, شليک, کلي, ميکردن, گلوله, داش...</td>\n",
       "      <td>[(اونا, PRO), (کلي, CONJ), (اسلحه, N), (داشتن,...</td>\n",
       "      <td>[اونا NP] کلي [اسلحه داشتن آقا و اونا گلوله شل...</td>\n",
       "      <td>[(they, PRP), (had, VBD), (a, DT), (lot, NN), ...</td>\n",
       "      <td>[(they, PRP), [[('had', 'VBD')], [('a', 'DT'),...</td>\n",
       "      <td>SOV</td>\n",
       "    </tr>\n",
       "    <tr>\n",
       "      <th>98</th>\n",
       "      <td>lets go  were wasting time</td>\n",
       "      <td>بريم داريم وقت تلف ميکنيم</td>\n",
       "      <td>[lets, go, were, wasting, time]</td>\n",
       "      <td>[بريم, داريم, وقت, تلف, ميکنيم]</td>\n",
       "      <td>5</td>\n",
       "      <td>5</td>\n",
       "      <td>{lets, time, were, wasting, go}</td>\n",
       "      <td>{وقت, بريم, تلف, ميکنيم, داريم}</td>\n",
       "      <td>[(بريم, N), (داريم, V), (وقت, Ne), (تلف, Ne), ...</td>\n",
       "      <td>[بريم NP] [داريم VP] [وقت تلف ميکنيم NP]</td>\n",
       "      <td>[(lets, NNS), (go, VBP), (were, VBD), (wasting...</td>\n",
       "      <td>[(lets, NNS), [[('go', 'VBP')]], [[('were', 'V...</td>\n",
       "      <td>SVO</td>\n",
       "    </tr>\n",
       "    <tr>\n",
       "      <th>99</th>\n",
       "      <td>where are you from anyway</td>\n",
       "      <td>درهرصورت تو کجايي هستي</td>\n",
       "      <td>[where, are, you, from, anyway]</td>\n",
       "      <td>[درهرصورت, تو, کجايي, هستي]</td>\n",
       "      <td>5</td>\n",
       "      <td>4</td>\n",
       "      <td>{where, are, anyway, from, you}</td>\n",
       "      <td>{هستي, درهرصورت, کجايي, تو}</td>\n",
       "      <td>[(درهرصورت, CONJ), (تو, PRO), (کجايي, V), (هست...</td>\n",
       "      <td>[درهرصورت ADVP] [تو NP] [کجايي VP] هستي</td>\n",
       "      <td>[(where, WRB), (are, VBP), (you, PRP), (from, ...</td>\n",
       "      <td>[(where, WRB), [[('are', 'VBP')]], (you, PRP),...</td>\n",
       "      <td>Other</td>\n",
       "    </tr>\n",
       "    <tr>\n",
       "      <th>100</th>\n",
       "      <td>lets go com on  boys</td>\n",
       "      <td>بريم بياين بچهها</td>\n",
       "      <td>[lets, go, com, on, boys]</td>\n",
       "      <td>[بريم, بياين, بچهها]</td>\n",
       "      <td>5</td>\n",
       "      <td>3</td>\n",
       "      <td>{lets, com, on, boys, go}</td>\n",
       "      <td>{بچهها, بياين, بريم}</td>\n",
       "      <td>[(بريم, N), (بياين, V), (بچهها, N)]</td>\n",
       "      <td>[بريم بياين VP] بچهها</td>\n",
       "      <td>[(lets, NNS), (go, VBP), (com, VB), (on, IN), ...</td>\n",
       "      <td>[(lets, NNS), [[('go', 'VBP')]], [[('com', 'VB...</td>\n",
       "      <td>Other</td>\n",
       "    </tr>\n",
       "  </tbody>\n",
       "</table>\n",
       "</div>"
      ],
      "text/plain": [
       "                                                   Eng  \\\n",
       "ID                                                       \n",
       "91                              by mr ben wade himself   \n",
       "92                        how did you know it was wade   \n",
       "93             its been him the last 21 times  marshal   \n",
       "94          i saw a mexican sharpshooter and an apache   \n",
       "95              did you see the hand of god whats that   \n",
       "96      his pistol why the hell didnt you do something   \n",
       "97   they had a lot of weapons  mr and they were sh...   \n",
       "98                          lets go  were wasting time   \n",
       "99                           where are you from anyway   \n",
       "100                               lets go com on  boys   \n",
       "\n",
       "                                                   Far  \\\n",
       "ID                                                       \n",
       "91                                   بوسيله خود بن ويد   \n",
       "92                     تو از کجا فهميدي که اون ويد بود   \n",
       "93                 اون خودش بود توي 21 بار قبلي مارشال   \n",
       "94   من يک تير انداز ماهر مکزيکي و يک آپاچي باهاش ديدم   \n",
       "95                     تو دست خدا را ديدي اون چيه ديگه   \n",
       "96                      هفت تيرش چرا تو هيچ کاري نکردي   \n",
       "97   اونا کلي اسلحه داشتن آقا و اونا گلوله شليک ميکردن   \n",
       "98                           بريم داريم وقت تلف ميکنيم   \n",
       "99                              درهرصورت تو کجايي هستي   \n",
       "100                                   بريم بياين بچهها   \n",
       "\n",
       "                                               Eng_Tok  \\\n",
       "ID                                                       \n",
       "91                        [by, mr, ben, wade, himself]   \n",
       "92                [how, did, you, know, it, was, wade]   \n",
       "93     [its, been, him, the, last, 21, times, marshal]   \n",
       "94   [i, saw, a, mexican, sharpshooter, and, an, ap...   \n",
       "95    [did, you, see, the, hand, of, god, whats, that]   \n",
       "96   [his, pistol, why, the, hell, didnt, you, do, ...   \n",
       "97   [they, had, a, lot, of, weapons, mr, and, they...   \n",
       "98                     [lets, go, were, wasting, time]   \n",
       "99                     [where, are, you, from, anyway]   \n",
       "100                          [lets, go, com, on, boys]   \n",
       "\n",
       "                                               Far_Tok  Eng_Len  Far_Len  \\\n",
       "ID                                                                         \n",
       "91                              [بوسيله, خود, بن, ويد]        5        4   \n",
       "92            [تو, از, کجا, فهميدي, که, اون, ويد, بود]        7        8   \n",
       "93        [اون, خودش, بود, توي, 21, بار, قبلي, مارشال]        8        8   \n",
       "94   [من, يک, تير, انداز, ماهر, مکزيکي, و, يک, آپاچ...        8       11   \n",
       "95            [تو, دست, خدا, را, ديدي, اون, چيه, ديگه]        9        8   \n",
       "96              [هفت, تيرش, چرا, تو, هيچ, کاري, نکردي]        9        7   \n",
       "97   [اونا, کلي, اسلحه, داشتن, آقا, و, اونا, گلوله,...       12       10   \n",
       "98                     [بريم, داريم, وقت, تلف, ميکنيم]        5        5   \n",
       "99                         [درهرصورت, تو, کجايي, هستي]        5        4   \n",
       "100                               [بريم, بياين, بچهها]        5        3   \n",
       "\n",
       "                                             Eng_Types  \\\n",
       "ID                                                       \n",
       "91                        {mr, by, ben, wade, himself}   \n",
       "92                {did, was, how, know, wade, you, it}   \n",
       "93     {last, its, the, 21, marshal, him, been, times}   \n",
       "94   {apache, a, sharpshooter, i, mexican, and, an,...   \n",
       "95    {hand, the, did, whats, you, god, that, of, see}   \n",
       "96   {the, his, something, didnt, pistol, you, why,...   \n",
       "97   {a, shooting, lot, mr, had, were, they, and, b...   \n",
       "98                     {lets, time, were, wasting, go}   \n",
       "99                     {where, are, anyway, from, you}   \n",
       "100                          {lets, com, on, boys, go}   \n",
       "\n",
       "                                             Far_Types  \\\n",
       "ID                                                       \n",
       "91                              {خود, بوسيله, ويد, بن}   \n",
       "92            {از, بود, کجا, که, تو, فهميدي, ويد, اون}   \n",
       "93        {بود, 21, مارشال, خودش, قبلي, توي, بار, اون}   \n",
       "94   {يک, آپاچي, انداز, و, تير, مکزيکي, باهاش, من, ...   \n",
       "95            {تو, ديگه, چيه, ديدي, را, خدا, دست, اون}   \n",
       "96              {چرا, نکردي, تو, هيچ, تيرش, هفت, کاري}   \n",
       "97   {اسلحه, و, اونا, شليک, کلي, ميکردن, گلوله, داش...   \n",
       "98                     {وقت, بريم, تلف, ميکنيم, داريم}   \n",
       "99                         {هستي, درهرصورت, کجايي, تو}   \n",
       "100                               {بچهها, بياين, بريم}   \n",
       "\n",
       "                                               Far_POS  \\\n",
       "ID                                                       \n",
       "91      [(بوسيله, Ne), (خود, PRO), (بن, Ne), (ويد, N)]   \n",
       "92   [(تو, PRO), (از, P), (کجا, ADV), (فهميدي, V), ...   \n",
       "93   [(اون, PRO), (خودش, PRO), (بود, V), (توي, N), ...   \n",
       "94   [(من, PRO), (يک, NUM), (تير, Ne), (انداز, AJe)...   \n",
       "95   [(تو, PRO), (دست, Ne), (خدا, N), (را, POSTP), ...   \n",
       "96   [(هفت, NUM), (تيرش, N), (چرا, ADV), (تو, PRO),...   \n",
       "97   [(اونا, PRO), (کلي, CONJ), (اسلحه, N), (داشتن,...   \n",
       "98   [(بريم, N), (داريم, V), (وقت, Ne), (تلف, Ne), ...   \n",
       "99   [(درهرصورت, CONJ), (تو, PRO), (کجايي, V), (هست...   \n",
       "100                [(بريم, N), (بياين, V), (بچهها, N)]   \n",
       "\n",
       "                                            Far_Chunks  \\\n",
       "ID                                                       \n",
       "91                              [بوسيله خود بن ويد NP]   \n",
       "92   [تو NP] [از PP] [کجا NP] [فهميدي VP] که [اون و...   \n",
       "93   [اون NP] [خودش NP] [بود VP] [توي NP] [21 بار A...   \n",
       "94   [من NP] [يک تير انداز ماهر NP] [مکزيکي VP] و [...   \n",
       "95   [تو NP] [دست خدا NP] [را POSTP] [ديدي PP] [اون...   \n",
       "96   [هفت تيرش NP] [چرا ADVP] [تو NP] [هيچ کاري NP]...   \n",
       "97   [اونا NP] کلي [اسلحه داشتن آقا و اونا گلوله شل...   \n",
       "98            [بريم NP] [داريم VP] [وقت تلف ميکنيم NP]   \n",
       "99             [درهرصورت ADVP] [تو NP] [کجايي VP] هستي   \n",
       "100                              [بريم بياين VP] بچهها   \n",
       "\n",
       "                                               Eng_POS  \\\n",
       "ID                                                       \n",
       "91   [(by, IN), (mr, JJ), (ben, NN), (wade, VBD), (...   \n",
       "92   [(how, WRB), (did, VBD), (you, PRP), (know, VB...   \n",
       "93   [(its, PRP$), (been, VBN), (him, PRP), (the, D...   \n",
       "94   [(i, NN), (saw, VBD), (a, DT), (mexican, JJ), ...   \n",
       "95   [(did, VBD), (you, PRP), (see, VB), (the, DT),...   \n",
       "96   [(his, PRP$), (pistol, NN), (why, WRB), (the, ...   \n",
       "97   [(they, PRP), (had, VBD), (a, DT), (lot, NN), ...   \n",
       "98   [(lets, NNS), (go, VBP), (were, VBD), (wasting...   \n",
       "99   [(where, WRB), (are, VBP), (you, PRP), (from, ...   \n",
       "100  [(lets, NNS), (go, VBP), (com, VB), (on, IN), ...   \n",
       "\n",
       "                                            Eng_Chunks Word_Order  \n",
       "ID                                                                 \n",
       "91   [[[('by', 'IN')], [('mr', 'JJ'), ('ben', 'NN')...      Other  \n",
       "92   [(how, WRB), [[('did', 'VBD')]], (you, PRP), [...        SVO  \n",
       "93   [(its, PRP$), [[('been', 'VBN')]], (him, PRP),...        SVO  \n",
       "94   [[(i, NN)], [[('saw', 'VBD')], [('a', 'DT'), (...        SVO  \n",
       "95   [[[('did', 'VBD')]], (you, PRP), [[('see', 'VB...        SOV  \n",
       "96   [(his, PRP$), [(pistol, NN)], (why, WRB), [(th...        SVO  \n",
       "97   [(they, PRP), [[('had', 'VBD')], [('a', 'DT'),...        SOV  \n",
       "98   [(lets, NNS), [[('go', 'VBP')]], [[('were', 'V...        SVO  \n",
       "99   [(where, WRB), [[('are', 'VBP')]], (you, PRP),...      Other  \n",
       "100  [(lets, NNS), [[('go', 'VBP')]], [[('com', 'VB...      Other  "
      ]
     },
     "execution_count": 13,
     "metadata": {},
     "output_type": "execute_result"
    }
   ],
   "source": [
    "small_df.tail(10)"
   ]
  },
  {
   "cell_type": "markdown",
   "metadata": {},
   "source": [
    "What are the value counts of everything we've seen thus far?"
   ]
  },
  {
   "cell_type": "code",
   "execution_count": 14,
   "metadata": {},
   "outputs": [
    {
     "data": {
      "text/plain": [
       "Other    50\n",
       "SVO      33\n",
       "SOV      17\n",
       "Name: Word_Order, dtype: int64"
      ]
     },
     "execution_count": 14,
     "metadata": {},
     "output_type": "execute_result"
    }
   ],
   "source": [
    "small_df['Word_Order'].value_counts()"
   ]
  },
  {
   "cell_type": "markdown",
   "metadata": {},
   "source": [
    "Hmmm... these numbers seem a bit funky...! We got 38 SOV values when we searched through the small_df, but only 17 when we applied it to our DF. I wonder if the regexps are stepping on each other's toes? Let's reverse the rule and see what happens:"
   ]
  },
  {
   "cell_type": "code",
   "execution_count": 15,
   "metadata": {},
   "outputs": [],
   "source": [
    "def gen_word_order2(text):\n",
    "    if re.findall('(NP)[^VP]*(NP)+(VP)*[^NP]', text):\n",
    "        return 'SOV'\n",
    "    elif re.findall('(NP)[^NP]*VP[^VP]*(NP)+[^VP]*', text):\n",
    "        return 'SVO'\n",
    "    else:\n",
    "        return 'Other'"
   ]
  },
  {
   "cell_type": "code",
   "execution_count": 16,
   "metadata": {},
   "outputs": [
    {
     "name": "stderr",
     "output_type": "stream",
     "text": [
      "C:\\Users\\16starjo\\Documents\\Anaconda3\\lib\\site-packages\\ipykernel_launcher.py:1: SettingWithCopyWarning: \n",
      "A value is trying to be set on a copy of a slice from a DataFrame.\n",
      "Try using .loc[row_indexer,col_indexer] = value instead\n",
      "\n",
      "See the caveats in the documentation: http://pandas.pydata.org/pandas-docs/stable/indexing.html#indexing-view-versus-copy\n",
      "  \"\"\"Entry point for launching an IPython kernel.\n"
     ]
    }
   ],
   "source": [
    "small_df['Word_Order2'] = small_df['Far_Chunks'].apply(gen_word_order2)"
   ]
  },
  {
   "cell_type": "code",
   "execution_count": 17,
   "metadata": {},
   "outputs": [
    {
     "data": {
      "text/plain": [
       "Other    50\n",
       "SOV      38\n",
       "SVO      12\n",
       "Name: Word_Order2, dtype: int64"
      ]
     },
     "execution_count": 17,
     "metadata": {},
     "output_type": "execute_result"
    }
   ],
   "source": [
    "small_df['Word_Order2'].value_counts()"
   ]
  },
  {
   "cell_type": "markdown",
   "metadata": {},
   "source": [
    "Yes, the regular expressions most definitely _are_ treading on each other...! It is interesting to note that the regular expressions only apply to 50% of the data; we'll see how this scales as we work up to the full_df."
   ]
  },
  {
   "cell_type": "code",
   "execution_count": null,
   "metadata": {},
   "outputs": [],
   "source": []
  },
  {
   "cell_type": "code",
   "execution_count": null,
   "metadata": {},
   "outputs": [],
   "source": []
  },
  {
   "cell_type": "code",
   "execution_count": null,
   "metadata": {},
   "outputs": [],
   "source": []
  },
  {
   "cell_type": "code",
   "execution_count": null,
   "metadata": {},
   "outputs": [],
   "source": []
  },
  {
   "cell_type": "code",
   "execution_count": null,
   "metadata": {},
   "outputs": [],
   "source": [
    "full_df['Word_Order'] = full_df['Far_Chunks'].apply(gen_word_order)"
   ]
  },
  {
   "cell_type": "code",
   "execution_count": null,
   "metadata": {},
   "outputs": [],
   "source": [
    "full_df['Word_Order'].value_counts()"
   ]
  },
  {
   "cell_type": "code",
   "execution_count": null,
   "metadata": {},
   "outputs": [],
   "source": []
  },
  {
   "cell_type": "code",
   "execution_count": null,
   "metadata": {},
   "outputs": [],
   "source": []
  },
  {
   "cell_type": "code",
   "execution_count": null,
   "metadata": {},
   "outputs": [],
   "source": []
  },
  {
   "cell_type": "code",
   "execution_count": null,
   "metadata": {},
   "outputs": [],
   "source": []
  },
  {
   "cell_type": "code",
   "execution_count": null,
   "metadata": {},
   "outputs": [],
   "source": []
  }
 ],
 "metadata": {
  "kernelspec": {
   "display_name": "Python 3",
   "language": "python",
   "name": "python3"
  },
  "language_info": {
   "codemirror_mode": {
    "name": "ipython",
    "version": 3
   },
   "file_extension": ".py",
   "mimetype": "text/x-python",
   "name": "python",
   "nbconvert_exporter": "python",
   "pygments_lexer": "ipython3",
   "version": "3.7.1"
  }
 },
 "nbformat": 4,
 "nbformat_minor": 2
}
