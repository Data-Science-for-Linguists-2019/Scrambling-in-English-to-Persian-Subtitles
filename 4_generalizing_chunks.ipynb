{
 "cells": [
  {
   "cell_type": "markdown",
   "metadata": {},
   "source": [
    "# Generalizing Chunks\n",
    "#### John R. Starr; jrs294@pitt.edu\n",
    "Now that we have all of the data POS-tagged and chunked, it's time to generalize the chunks into categories: SOV, SVO, and an \"extraneous\" column EX (which will probably be filled by mis-parsed/mis-chunked data). At the most basic level, I intend on examining the number of noun phrases before the verb. If there are two, then we'll make it one. \n",
    "\n",
    "NOTE: I understand that the chunked data I have is by no means perfect; this is one of the limitations of my project.\n",
    "\n",
    "\n",
    "### Table of Contents:\n",
    "- [Section 1: Importing the Necessary Files, Examining Data](#Section-1:-Importing-Necessary-Files,-Examining-Data)\n",
    "- [Section 2: Simplifying Chunks](#Section-2:-Simplifying-Chunks)\n",
    "- [Section 3: Generalizing Chunks Using Regex](#Section-3:-Generalizing-Chunks-Using-Regex)\n",
    "- [Section 4: Exporting Files](#Section-4:-Exporting-Files)\n"
   ]
  },
  {
   "cell_type": "markdown",
   "metadata": {},
   "source": [
    "### Section 1: Importing the Necessary Files, Examining Data"
   ]
  },
  {
   "cell_type": "code",
   "execution_count": 1,
   "metadata": {},
   "outputs": [],
   "source": [
    "import nltk\n",
    "import numpy as np\n",
    "import pandas as pd\n",
    "import re"
   ]
  },
  {
   "cell_type": "code",
   "execution_count": 2,
   "metadata": {},
   "outputs": [],
   "source": [
    "# Releasing all output:\n",
    "from IPython.core.interactiveshell import InteractiveShell\n",
    "InteractiveShell.ast_node_interactivity = \"all\""
   ]
  },
  {
   "cell_type": "code",
   "execution_count": 3,
   "metadata": {},
   "outputs": [],
   "source": [
    "full_df = pd.read_pickle('tagged_chunked_df.pkl')"
   ]
  },
  {
   "cell_type": "code",
   "execution_count": 4,
   "metadata": {},
   "outputs": [
    {
     "data": {
      "text/html": [
       "<div>\n",
       "<style scoped>\n",
       "    .dataframe tbody tr th:only-of-type {\n",
       "        vertical-align: middle;\n",
       "    }\n",
       "\n",
       "    .dataframe tbody tr th {\n",
       "        vertical-align: top;\n",
       "    }\n",
       "\n",
       "    .dataframe thead th {\n",
       "        text-align: right;\n",
       "    }\n",
       "</style>\n",
       "<table border=\"1\" class=\"dataframe\">\n",
       "  <thead>\n",
       "    <tr style=\"text-align: right;\">\n",
       "      <th></th>\n",
       "      <th>Eng</th>\n",
       "      <th>Far</th>\n",
       "      <th>Eng_Tok</th>\n",
       "      <th>Far_Tok</th>\n",
       "      <th>Eng_Len</th>\n",
       "      <th>Far_Len</th>\n",
       "      <th>Eng_Types</th>\n",
       "      <th>Far_Types</th>\n",
       "      <th>Far_POS</th>\n",
       "      <th>Far_Chunks</th>\n",
       "      <th>Eng_POS</th>\n",
       "      <th>Eng_Chunks</th>\n",
       "    </tr>\n",
       "    <tr>\n",
       "      <th>ID</th>\n",
       "      <th></th>\n",
       "      <th></th>\n",
       "      <th></th>\n",
       "      <th></th>\n",
       "      <th></th>\n",
       "      <th></th>\n",
       "      <th></th>\n",
       "      <th></th>\n",
       "      <th></th>\n",
       "      <th></th>\n",
       "      <th></th>\n",
       "      <th></th>\n",
       "    </tr>\n",
       "  </thead>\n",
       "  <tbody>\n",
       "    <tr>\n",
       "      <th>1</th>\n",
       "      <td>raspy breathing</td>\n",
       "      <td>صداي خر خر</td>\n",
       "      <td>[raspy, breathing]</td>\n",
       "      <td>[صداي, خر, خر]</td>\n",
       "      <td>2</td>\n",
       "      <td>3</td>\n",
       "      <td>{raspy, breathing}</td>\n",
       "      <td>{صداي, خر}</td>\n",
       "      <td>[(صداي, NUM), (خر, Ne), (خر, N)]</td>\n",
       "      <td>[صداي خر خر NP]</td>\n",
       "      <td>[(raspy, NN), (breathing, NN)]</td>\n",
       "      <td>[[(raspy, NN), (breathing, NN)]]</td>\n",
       "    </tr>\n",
       "    <tr>\n",
       "      <th>2</th>\n",
       "      <td>dad</td>\n",
       "      <td>پدر</td>\n",
       "      <td>[dad]</td>\n",
       "      <td>[پدر]</td>\n",
       "      <td>1</td>\n",
       "      <td>1</td>\n",
       "      <td>{dad}</td>\n",
       "      <td>{پدر}</td>\n",
       "      <td>[(پدر, N)]</td>\n",
       "      <td>[پدر NP]</td>\n",
       "      <td>[(dad, NN)]</td>\n",
       "      <td>[[(dad, NN)]]</td>\n",
       "    </tr>\n",
       "    <tr>\n",
       "      <th>3</th>\n",
       "      <td>maybe its the wind</td>\n",
       "      <td>شايد صداي باد باشه</td>\n",
       "      <td>[maybe, its, the, wind]</td>\n",
       "      <td>[شايد, صداي, باد, باشه]</td>\n",
       "      <td>4</td>\n",
       "      <td>4</td>\n",
       "      <td>{wind, maybe, the, its}</td>\n",
       "      <td>{صداي, شايد, باد, باشه}</td>\n",
       "      <td>[(شايد, Ne), (صداي, AJ), (باد, V), (باشه, V)]</td>\n",
       "      <td>[شايد صداي NP] [باد VP] [باشه VP]</td>\n",
       "      <td>[(maybe, RB), (its, PRP$), (the, DT), (wind, NN)]</td>\n",
       "      <td>[(maybe, RB), (its, PRP$), [(the, DT), (wind, ...</td>\n",
       "    </tr>\n",
       "    <tr>\n",
       "      <th>4</th>\n",
       "      <td>no</td>\n",
       "      <td>نه</td>\n",
       "      <td>[no]</td>\n",
       "      <td>[نه]</td>\n",
       "      <td>1</td>\n",
       "      <td>1</td>\n",
       "      <td>{no}</td>\n",
       "      <td>{نه}</td>\n",
       "      <td>[(نه, ADV)]</td>\n",
       "      <td>نه</td>\n",
       "      <td>[(no, DT)]</td>\n",
       "      <td>[[(no, DT)]]</td>\n",
       "    </tr>\n",
       "    <tr>\n",
       "      <th>5</th>\n",
       "      <td>stop please stop</td>\n",
       "      <td>دست نگه داريد خواهش ميکنم دست نگه داريد</td>\n",
       "      <td>[stop, please, stop]</td>\n",
       "      <td>[دست, نگه, داريد, خواهش, ميکنم, دست, نگه, داريد]</td>\n",
       "      <td>3</td>\n",
       "      <td>8</td>\n",
       "      <td>{please, stop}</td>\n",
       "      <td>{خواهش, دست, نگه, ميکنم, داريد}</td>\n",
       "      <td>[(دست, N), (نگه, N), (داريد, V), (خواهش, Ne), ...</td>\n",
       "      <td>[دست NP] [نگه داريد VP] [خواهش ميکنم دست NP] [...</td>\n",
       "      <td>[(stop, JJ), (please, NN), (stop, VB)]</td>\n",
       "      <td>[[(stop, JJ), (please, NN)], [[('stop', 'VB')]]]</td>\n",
       "    </tr>\n",
       "  </tbody>\n",
       "</table>\n",
       "</div>"
      ],
      "text/plain": [
       "                   Eng                                      Far  \\\n",
       "ID                                                                \n",
       "1      raspy breathing                               صداي خر خر   \n",
       "2                  dad                                      پدر   \n",
       "3   maybe its the wind                       شايد صداي باد باشه   \n",
       "4                   no                                       نه   \n",
       "5     stop please stop  دست نگه داريد خواهش ميکنم دست نگه داريد   \n",
       "\n",
       "                    Eng_Tok                                           Far_Tok  \\\n",
       "ID                                                                              \n",
       "1        [raspy, breathing]                                    [صداي, خر, خر]   \n",
       "2                     [dad]                                             [پدر]   \n",
       "3   [maybe, its, the, wind]                           [شايد, صداي, باد, باشه]   \n",
       "4                      [no]                                              [نه]   \n",
       "5      [stop, please, stop]  [دست, نگه, داريد, خواهش, ميکنم, دست, نگه, داريد]   \n",
       "\n",
       "    Eng_Len  Far_Len                Eng_Types  \\\n",
       "ID                                              \n",
       "1         2        3       {raspy, breathing}   \n",
       "2         1        1                    {dad}   \n",
       "3         4        4  {wind, maybe, the, its}   \n",
       "4         1        1                     {no}   \n",
       "5         3        8           {please, stop}   \n",
       "\n",
       "                          Far_Types  \\\n",
       "ID                                    \n",
       "1                        {صداي, خر}   \n",
       "2                             {پدر}   \n",
       "3           {صداي, شايد, باد, باشه}   \n",
       "4                              {نه}   \n",
       "5   {خواهش, دست, نگه, ميکنم, داريد}   \n",
       "\n",
       "                                              Far_POS  \\\n",
       "ID                                                      \n",
       "1                    [(صداي, NUM), (خر, Ne), (خر, N)]   \n",
       "2                                          [(پدر, N)]   \n",
       "3       [(شايد, Ne), (صداي, AJ), (باد, V), (باشه, V)]   \n",
       "4                                         [(نه, ADV)]   \n",
       "5   [(دست, N), (نگه, N), (داريد, V), (خواهش, Ne), ...   \n",
       "\n",
       "                                           Far_Chunks  \\\n",
       "ID                                                      \n",
       "1                                     [صداي خر خر NP]   \n",
       "2                                            [پدر NP]   \n",
       "3                   [شايد صداي NP] [باد VP] [باشه VP]   \n",
       "4                                                  نه   \n",
       "5   [دست NP] [نگه داريد VP] [خواهش ميکنم دست NP] [...   \n",
       "\n",
       "                                              Eng_POS  \\\n",
       "ID                                                      \n",
       "1                      [(raspy, NN), (breathing, NN)]   \n",
       "2                                         [(dad, NN)]   \n",
       "3   [(maybe, RB), (its, PRP$), (the, DT), (wind, NN)]   \n",
       "4                                          [(no, DT)]   \n",
       "5              [(stop, JJ), (please, NN), (stop, VB)]   \n",
       "\n",
       "                                           Eng_Chunks  \n",
       "ID                                                     \n",
       "1                    [[(raspy, NN), (breathing, NN)]]  \n",
       "2                                       [[(dad, NN)]]  \n",
       "3   [(maybe, RB), (its, PRP$), [(the, DT), (wind, ...  \n",
       "4                                        [[(no, DT)]]  \n",
       "5    [[(stop, JJ), (please, NN)], [[('stop', 'VB')]]]  "
      ]
     },
     "execution_count": 4,
     "metadata": {},
     "output_type": "execute_result"
    }
   ],
   "source": [
    "full_df.head()"
   ]
  },
  {
   "cell_type": "markdown",
   "metadata": {},
   "source": [
    "Rather than working on the full DF, let's create a smaller one that we can run functions on faster...:"
   ]
  },
  {
   "cell_type": "code",
   "execution_count": 5,
   "metadata": {},
   "outputs": [],
   "source": [
    "small_df = full_df.iloc[:100]"
   ]
  },
  {
   "cell_type": "markdown",
   "metadata": {},
   "source": [
    "Let's see what type of data we're working with. Because we're looking for the abnormalities in Persian word order, we only need to focus on that data. So, what's it all look like?"
   ]
  },
  {
   "cell_type": "code",
   "execution_count": 6,
   "metadata": {},
   "outputs": [
    {
     "name": "stdout",
     "output_type": "stream",
     "text": [
      "[صداي خر خر NP]\n",
      "[\n",
      "\n",
      "[پدر NP]\n",
      "[\n",
      "\n",
      "[شايد صداي NP] [باد VP] [باشه VP]\n",
      "[\n",
      "\n",
      "نه\n",
      "ن\n",
      "\n",
      "[دست NP] [نگه داريد VP] [خواهش ميکنم دست NP] [نگه داريد VP]\n",
      "[\n",
      "\n"
     ]
    }
   ],
   "source": [
    "# Gathering some information on the Persian data:\n",
    "for item in small_df.Far_Chunks.iloc[:5]:\n",
    "    print(item)\n",
    "    print(item[0])\n",
    "    print()"
   ]
  },
  {
   "cell_type": "markdown",
   "metadata": {},
   "source": [
    "Ah.. it seems that our data is in string format...! This makes things a little more annoying to navigate. If only the data were in tuple form! Oh well...  Let's try use regex to search through this and get the word order that we want.\n",
    "\n",
    "NOTE: Persian reads from right-to-left; however, the chunker flips the sentence backward so that it can be read \"left-to-right\" and can be more easily compared with languages like English. If this is confusing now, I'll explain more in my presentation."
   ]
  },
  {
   "cell_type": "markdown",
   "metadata": {},
   "source": [
    "### Section 2: Simplifying Chunks\n",
    "First, I'll remove the brackets, and then I'll convert the data to a string and strip it of any excess characters."
   ]
  },
  {
   "cell_type": "code",
   "execution_count": 7,
   "metadata": {},
   "outputs": [
    {
     "data": {
      "text/plain": [
       "ID\n",
       "1                      [ NP]]\n",
       "2                      [ NP]]\n",
       "3          [ NP],  VP],  VP]]\n",
       "4                          []\n",
       "5    [ NP],  VP],  NP],  VP]]\n",
       "Name: Far_Chunks, dtype: object"
      ]
     },
     "execution_count": 7,
     "metadata": {},
     "output_type": "execute_result"
    },
    {
     "data": {
      "text/plain": [
       "612086"
      ]
     },
     "execution_count": 7,
     "metadata": {},
     "output_type": "execute_result"
    }
   ],
   "source": [
    "# Creating Series of Chunks\n",
    "full_gen = full_df.Far_Chunks.apply(lambda x: re.findall(r' [A-Z]+P\\]', x))\n",
    "full_gen.head()\n",
    "len(full_gen)"
   ]
  },
  {
   "cell_type": "code",
   "execution_count": 8,
   "metadata": {},
   "outputs": [],
   "source": [
    "# Removing brackets and lists\n",
    "full_gen = full_gen.apply(str).apply(lambda x: re.sub(r\"[,\\[\\]\\']\", '', x)).apply(lambda x: x.strip()).apply(lambda x: re.sub(r\"'  '\", '', x))"
   ]
  },
  {
   "cell_type": "code",
   "execution_count": 9,
   "metadata": {},
   "outputs": [
    {
     "data": {
      "text/plain": [
       "ID\n",
       "1                NP\n",
       "2                NP\n",
       "3        NP  VP  VP\n",
       "4                  \n",
       "5    NP  VP  NP  VP\n",
       "Name: Far_Chunks, dtype: object"
      ]
     },
     "execution_count": 9,
     "metadata": {},
     "output_type": "execute_result"
    }
   ],
   "source": [
    "# Seeing our finalized head\n",
    "full_gen.head()"
   ]
  },
  {
   "cell_type": "markdown",
   "metadata": {},
   "source": [
    "Now, let's see what our most common tags are using Counter:"
   ]
  },
  {
   "cell_type": "code",
   "execution_count": 10,
   "metadata": {},
   "outputs": [
    {
     "data": {
      "text/plain": [
       "[('NP', 97417),\n",
       " ('NP  VP', 36201),\n",
       " ('NP  NP', 17290),\n",
       " ('VP', 14023),\n",
       " ('NP  NP  VP', 13694),\n",
       " ('NP  PP  NP  VP', 13342),\n",
       " ('NP  PP  NP', 11081),\n",
       " ('PP  NP', 8256),\n",
       " ('NP  VP  VP', 8138),\n",
       " ('PP  NP  VP', 7168),\n",
       " ('NP  VP  NP', 6901),\n",
       " ('NP  VP  NP  VP', 6462),\n",
       " ('NP  ADJP  VP', 6022),\n",
       " ('', 4384),\n",
       " ('ADVP  VP', 4176)]"
      ]
     },
     "execution_count": 10,
     "metadata": {},
     "output_type": "execute_result"
    }
   ],
   "source": [
    "from collections import Counter\n",
    "\n",
    "chunk_tags_freq = Counter(full_gen)\n",
    "chunk_tags_freq.most_common(15)"
   ]
  },
  {
   "cell_type": "markdown",
   "metadata": {},
   "source": [
    "The list is topped by a sole NP chunk, indicating that there are probably many one-word lines included in the corpus. Interestingly, strict SVO (with no inter-weaving phrases) is ranked ninth on this list! As expected, there should be many more SOV sentences than SVO ones. Let's visualize a bit:"
   ]
  },
  {
   "cell_type": "code",
   "execution_count": 11,
   "metadata": {},
   "outputs": [],
   "source": [
    "pie_chart_values = chunk_tags_freq.most_common(10)\n",
    "keys = [x[0] for x in pie_chart_values]\n",
    "values = [x[1] for x in pie_chart_values]"
   ]
  },
  {
   "cell_type": "code",
   "execution_count": 12,
   "metadata": {},
   "outputs": [],
   "source": [
    "import matplotlib.pyplot as plt"
   ]
  },
  {
   "cell_type": "code",
   "execution_count": 13,
   "metadata": {},
   "outputs": [],
   "source": [
    "colors = ['gold', 'yellowgreen', 'lightcoral', 'lightskyblue']"
   ]
  },
  {
   "cell_type": "code",
   "execution_count": 14,
   "metadata": {},
   "outputs": [
    {
     "data": {
      "text/plain": [
       "(-1.1053238751014764,\n",
       " 1.1032728382717751,\n",
       " -1.1266115521514544,\n",
       " 1.1025300406769927)"
      ]
     },
     "execution_count": 14,
     "metadata": {},
     "output_type": "execute_result"
    },
    {
     "data": {
      "image/png": "[encoded data removed]",
      "text/plain": [
       "<Figure size 432x288 with 1 Axes>"
      ]
     },
     "metadata": {},
     "output_type": "display_data"
    },
    {
     "data": {
      "text/plain": [
       "<Figure size 432x288 with 0 Axes>"
      ]
     },
     "metadata": {},
     "output_type": "display_data"
    }
   ],
   "source": [
    "pie = plt.pie(values, labels=keys, colors=colors, autopct='%1.1f%%', shadow=True, startangle=140)\n",
    "plt.axis('equal')\n",
    "plt.show()\n",
    "\n",
    "figure_1 = plt.figure()\n",
    "figure_1.savefig('common_chunks.png')"
   ]
  },
  {
   "cell_type": "markdown",
   "metadata": {},
   "source": [
    "In order to make sure that there aren't any oddball tags -- such as excess English words -- let's look at the set of tags. Ideally, there will only be NP, VP, PP, ADVP, ADJP, and POSTP."
   ]
  },
  {
   "cell_type": "code",
   "execution_count": 15,
   "metadata": {},
   "outputs": [],
   "source": [
    "# Making sure we have all the necessary tags!\n",
    "tagset = set(' '.join(full_gen).split())"
   ]
  },
  {
   "cell_type": "code",
   "execution_count": 16,
   "metadata": {},
   "outputs": [
    {
     "name": "stdout",
     "output_type": "stream",
     "text": [
      "Pretty printing has been turned OFF\n"
     ]
    },
    {
     "data": {
      "text/plain": [
       "{'PP', 'VP', 'POSTP', 'ADVP', 'NP', 'ADJP'}"
      ]
     },
     "execution_count": 16,
     "metadata": {},
     "output_type": "execute_result"
    }
   ],
   "source": [
    "# Fingers crossed\n",
    "%pprint\n",
    "tagset"
   ]
  },
  {
   "cell_type": "markdown",
   "metadata": {},
   "source": [
    "Looks great! All the expected tags are there. Now let's generalize the chunks using regex."
   ]
  },
  {
   "cell_type": "markdown",
   "metadata": {},
   "source": [
    "### Section 3: Generalizing Chunks Using Regex\n",
    "First, let's create a bunch of sample chunks that we can test our functions on:"
   ]
  },
  {
   "cell_type": "code",
   "execution_count": 17,
   "metadata": {},
   "outputs": [],
   "source": [
    "s1 = 'NP  VP'\n",
    "s2 = 'NP  VP  NP'\n",
    "s3 = 'NP  NP  VP'\n",
    "s4 = 'NP  NP  VP  NP'\n",
    "s5 = 'NP  PP  VP  NP'\n",
    "s6 = 'NP  ADVP  VP  NP'\n",
    "s7 = 'NP  ADVP  NP  VP'\n",
    "s8 = 'NP  ADVP  PP  VP  NP'\n",
    "s9 = 'NP  ADVP  PP  NP  VP'\n",
    "s10 = 'NP  ADVP  PP  VP  ADVP  NP'"
   ]
  },
  {
   "cell_type": "code",
   "execution_count": 18,
   "metadata": {},
   "outputs": [],
   "source": [
    "# Combining them into a list so that they can be looped through:\n",
    "ls = [s1, s2, s3, s4, s5, s6, s7, s8, s9, s10]"
   ]
  },
  {
   "cell_type": "markdown",
   "metadata": {},
   "source": [
    "Next, we need to define what NPs/VPs are _and_ aren't! This will help us create cleaner regular expressions that are freer in their selection:"
   ]
  },
  {
   "cell_type": "code",
   "execution_count": 19,
   "metadata": {},
   "outputs": [],
   "source": [
    "# What they are:\n",
    "np = r'NP'\n",
    "vp = r'VP'"
   ]
  },
  {
   "cell_type": "code",
   "execution_count": 20,
   "metadata": {},
   "outputs": [],
   "source": [
    "# What they're not:\n",
    "not_np = r'((VP)|(POSTP)|(ADVP)|(PP)|(ADJP))'\n",
    "not_vp = r'((NP)|(POSTP)|(ADVP)|(PP)|(ADJP))'\n",
    "not_np_vp = r'((POSTP)|(ADVP)|(PP)|(ADJP))'"
   ]
  },
  {
   "cell_type": "markdown",
   "metadata": {},
   "source": [
    "Now we'll create two regex patterns that should match for either SVO or SOV. Let's start with SVO:"
   ]
  },
  {
   "cell_type": "code",
   "execution_count": 21,
   "metadata": {},
   "outputs": [],
   "source": [
    "# We're looking to match s2, s5, s6, s8, and s10.\n",
    "svo_pat = re.compile(r'' + np +\"  (\"+ not_np_vp +\"  )*\" + vp +\"  (\"+ not_np_vp +\"  )*\" + np)"
   ]
  },
  {
   "cell_type": "code",
   "execution_count": 22,
   "metadata": {},
   "outputs": [
    {
     "name": "stdout",
     "output_type": "stream",
     "text": [
      "NP  VP  NP 2\n",
      "NP  PP  VP  NP 5\n",
      "NP  ADVP  VP  NP 6\n",
      "NP  ADVP  PP  VP  NP 8\n",
      "NP  ADVP  PP  VP  ADVP  NP 10\n"
     ]
    }
   ],
   "source": [
    "for item in ls:\n",
    "    if svo_pat.match(item):\n",
    "        print(item, (int(ls.index(item))+1))"
   ]
  },
  {
   "cell_type": "markdown",
   "metadata": {},
   "source": [
    "Great! Now for SOV:"
   ]
  },
  {
   "cell_type": "code",
   "execution_count": 23,
   "metadata": {},
   "outputs": [],
   "source": [
    "# We're hoping to match sentences 3, 4, 7, and 9.\n",
    "sov_pat = re.compile(r'' + np +\"  (\"+ not_vp +\"  )*\" + np +\"  (\"+ not_vp +\"  )*\" + vp)"
   ]
  },
  {
   "cell_type": "code",
   "execution_count": 24,
   "metadata": {},
   "outputs": [
    {
     "name": "stdout",
     "output_type": "stream",
     "text": [
      "NP  NP  VP 3\n",
      "NP  NP  VP  NP 4\n",
      "NP  ADVP  NP  VP 7\n",
      "NP  ADVP  PP  NP  VP 9\n"
     ]
    }
   ],
   "source": [
    "for item in ls:\n",
    "    if sov_pat.match(item):\n",
    "        print(item, (int(ls.index(item))+1))"
   ]
  },
  {
   "cell_type": "markdown",
   "metadata": {},
   "source": [
    "Great! Now that the regex are in order, we can define a function using them:"
   ]
  },
  {
   "cell_type": "code",
   "execution_count": 25,
   "metadata": {},
   "outputs": [],
   "source": [
    "def gen_word_order(text):\n",
    "    if sov_pat.match(text): # Checking for SVO\n",
    "        return 'SOV'\n",
    "    elif svo_pat.match(text): # Checking for SOV\n",
    "        return 'SVO'\n",
    "    else:\n",
    "        return 'Other'"
   ]
  },
  {
   "cell_type": "code",
   "execution_count": 26,
   "metadata": {},
   "outputs": [
    {
     "data": {
      "text/plain": [
       "Other    422525\n",
       "SOV      120607\n",
       "SVO       68954\n",
       "Name: Far_Chunks, dtype: int64"
      ]
     },
     "execution_count": 26,
     "metadata": {},
     "output_type": "execute_result"
    }
   ],
   "source": [
    "test = full_gen.apply(gen_word_order)\n",
    "test.value_counts()"
   ]
  },
  {
   "cell_type": "markdown",
   "metadata": {},
   "source": [
    "Next, we need to make sure that the ordering of the rules isn't influencing the output. Let's check that now:"
   ]
  },
  {
   "cell_type": "code",
   "execution_count": 27,
   "metadata": {},
   "outputs": [],
   "source": [
    "def gen_word_order2(text):\n",
    "    if svo_pat.match(text): # Checking for SVO\n",
    "        return 'SVO'\n",
    "    elif sov_pat.match(text): # Checking for SOV\n",
    "        return 'SOV'\n",
    "    else:\n",
    "        return 'Other'"
   ]
  },
  {
   "cell_type": "code",
   "execution_count": 28,
   "metadata": {},
   "outputs": [
    {
     "data": {
      "text/plain": [
       "Other    422525\n",
       "SOV      120607\n",
       "SVO       68954\n",
       "Name: Far_Chunks, dtype: int64"
      ]
     },
     "execution_count": 28,
     "metadata": {},
     "output_type": "execute_result"
    }
   ],
   "source": [
    "test2 = full_gen.apply(gen_word_order2)\n",
    "test2.value_counts()"
   ]
  },
  {
   "cell_type": "markdown",
   "metadata": {},
   "source": [
    "Sweet -- the values stayed the same! Here's the final function that will be applied to full_df:"
   ]
  },
  {
   "cell_type": "code",
   "execution_count": 29,
   "metadata": {},
   "outputs": [],
   "source": [
    "def gen_word_order_final(text):\n",
    "    if sov_pat.match(text):\n",
    "        return 'SOV'\n",
    "    elif svo_pat.match(text):\n",
    "        return 'SVO'\n",
    "    else:\n",
    "        return 'Other'"
   ]
  },
  {
   "cell_type": "markdown",
   "metadata": {},
   "source": [
    "Now we'll apply the same process as we did to the testing series we created earlier:"
   ]
  },
  {
   "cell_type": "code",
   "execution_count": 30,
   "metadata": {},
   "outputs": [],
   "source": [
    "# Removing Persian characters and excess English words:\n",
    "full_df['Word_Order_P1'] = full_df.Far_Chunks.apply(lambda x: re.findall(r' [A-Z]+P\\]', x))"
   ]
  },
  {
   "cell_type": "code",
   "execution_count": 31,
   "metadata": {},
   "outputs": [],
   "source": [
    "# Making the data easier to manipulate:\n",
    "full_df['Word_Order_P2'] = full_df['Word_Order_P1'].apply(str).apply(lambda x: re.sub(r\"[,\\[\\]\\']\", '', x)).apply(lambda x: x.strip()).apply(lambda x: re.sub(r\"'  '\", '', x))"
   ]
  },
  {
   "cell_type": "code",
   "execution_count": 32,
   "metadata": {},
   "outputs": [],
   "source": [
    "# Applying our function to generalize:\n",
    "full_df['Word_Order_Final'] = full_df['Word_Order_P2'].apply(gen_word_order_final)"
   ]
  },
  {
   "cell_type": "code",
   "execution_count": 33,
   "metadata": {},
   "outputs": [],
   "source": [
    "# Dropping the unnecessary columns:\n",
    "full_df = full_df.drop(['Word_Order_P1', 'Word_Order_P2'], axis = 1)"
   ]
  },
  {
   "cell_type": "markdown",
   "metadata": {},
   "source": [
    "What's the DF look like now? How many are classified for each of the three labels?"
   ]
  },
  {
   "cell_type": "code",
   "execution_count": 34,
   "metadata": {},
   "outputs": [
    {
     "data": {
      "text/html": [
       "<div>\n",
       "<style scoped>\n",
       "    .dataframe tbody tr th:only-of-type {\n",
       "        vertical-align: middle;\n",
       "    }\n",
       "\n",
       "    .dataframe tbody tr th {\n",
       "        vertical-align: top;\n",
       "    }\n",
       "\n",
       "    .dataframe thead th {\n",
       "        text-align: right;\n",
       "    }\n",
       "</style>\n",
       "<table border=\"1\" class=\"dataframe\">\n",
       "  <thead>\n",
       "    <tr style=\"text-align: right;\">\n",
       "      <th></th>\n",
       "      <th>Eng</th>\n",
       "      <th>Far</th>\n",
       "      <th>Eng_Tok</th>\n",
       "      <th>Far_Tok</th>\n",
       "      <th>Eng_Len</th>\n",
       "      <th>Far_Len</th>\n",
       "      <th>Eng_Types</th>\n",
       "      <th>Far_Types</th>\n",
       "      <th>Far_POS</th>\n",
       "      <th>Far_Chunks</th>\n",
       "      <th>Eng_POS</th>\n",
       "      <th>Eng_Chunks</th>\n",
       "      <th>Word_Order_Final</th>\n",
       "    </tr>\n",
       "    <tr>\n",
       "      <th>ID</th>\n",
       "      <th></th>\n",
       "      <th></th>\n",
       "      <th></th>\n",
       "      <th></th>\n",
       "      <th></th>\n",
       "      <th></th>\n",
       "      <th></th>\n",
       "      <th></th>\n",
       "      <th></th>\n",
       "      <th></th>\n",
       "      <th></th>\n",
       "      <th></th>\n",
       "      <th></th>\n",
       "    </tr>\n",
       "  </thead>\n",
       "  <tbody>\n",
       "    <tr>\n",
       "      <th>1</th>\n",
       "      <td>raspy breathing</td>\n",
       "      <td>صداي خر خر</td>\n",
       "      <td>[raspy, breathing]</td>\n",
       "      <td>[صداي, خر, خر]</td>\n",
       "      <td>2</td>\n",
       "      <td>3</td>\n",
       "      <td>{raspy, breathing}</td>\n",
       "      <td>{صداي, خر}</td>\n",
       "      <td>[(صداي, NUM), (خر, Ne), (خر, N)]</td>\n",
       "      <td>[صداي خر خر NP]</td>\n",
       "      <td>[(raspy, NN), (breathing, NN)]</td>\n",
       "      <td>[[(raspy, NN), (breathing, NN)]]</td>\n",
       "      <td>Other</td>\n",
       "    </tr>\n",
       "    <tr>\n",
       "      <th>2</th>\n",
       "      <td>dad</td>\n",
       "      <td>پدر</td>\n",
       "      <td>[dad]</td>\n",
       "      <td>[پدر]</td>\n",
       "      <td>1</td>\n",
       "      <td>1</td>\n",
       "      <td>{dad}</td>\n",
       "      <td>{پدر}</td>\n",
       "      <td>[(پدر, N)]</td>\n",
       "      <td>[پدر NP]</td>\n",
       "      <td>[(dad, NN)]</td>\n",
       "      <td>[[(dad, NN)]]</td>\n",
       "      <td>Other</td>\n",
       "    </tr>\n",
       "    <tr>\n",
       "      <th>3</th>\n",
       "      <td>maybe its the wind</td>\n",
       "      <td>شايد صداي باد باشه</td>\n",
       "      <td>[maybe, its, the, wind]</td>\n",
       "      <td>[شايد, صداي, باد, باشه]</td>\n",
       "      <td>4</td>\n",
       "      <td>4</td>\n",
       "      <td>{wind, maybe, the, its}</td>\n",
       "      <td>{صداي, شايد, باد, باشه}</td>\n",
       "      <td>[(شايد, Ne), (صداي, AJ), (باد, V), (باشه, V)]</td>\n",
       "      <td>[شايد صداي NP] [باد VP] [باشه VP]</td>\n",
       "      <td>[(maybe, RB), (its, PRP$), (the, DT), (wind, NN)]</td>\n",
       "      <td>[(maybe, RB), (its, PRP$), [(the, DT), (wind, ...</td>\n",
       "      <td>Other</td>\n",
       "    </tr>\n",
       "    <tr>\n",
       "      <th>4</th>\n",
       "      <td>no</td>\n",
       "      <td>نه</td>\n",
       "      <td>[no]</td>\n",
       "      <td>[نه]</td>\n",
       "      <td>1</td>\n",
       "      <td>1</td>\n",
       "      <td>{no}</td>\n",
       "      <td>{نه}</td>\n",
       "      <td>[(نه, ADV)]</td>\n",
       "      <td>نه</td>\n",
       "      <td>[(no, DT)]</td>\n",
       "      <td>[[(no, DT)]]</td>\n",
       "      <td>Other</td>\n",
       "    </tr>\n",
       "    <tr>\n",
       "      <th>5</th>\n",
       "      <td>stop please stop</td>\n",
       "      <td>دست نگه داريد خواهش ميکنم دست نگه داريد</td>\n",
       "      <td>[stop, please, stop]</td>\n",
       "      <td>[دست, نگه, داريد, خواهش, ميکنم, دست, نگه, داريد]</td>\n",
       "      <td>3</td>\n",
       "      <td>8</td>\n",
       "      <td>{please, stop}</td>\n",
       "      <td>{خواهش, دست, نگه, ميکنم, داريد}</td>\n",
       "      <td>[(دست, N), (نگه, N), (داريد, V), (خواهش, Ne), ...</td>\n",
       "      <td>[دست NP] [نگه داريد VP] [خواهش ميکنم دست NP] [...</td>\n",
       "      <td>[(stop, JJ), (please, NN), (stop, VB)]</td>\n",
       "      <td>[[(stop, JJ), (please, NN)], [[('stop', 'VB')]]]</td>\n",
       "      <td>SVO</td>\n",
       "    </tr>\n",
       "  </tbody>\n",
       "</table>\n",
       "</div>"
      ],
      "text/plain": [
       "                   Eng                                      Far  \\\n",
       "ID                                                                \n",
       "1      raspy breathing                               صداي خر خر   \n",
       "2                  dad                                      پدر   \n",
       "3   maybe its the wind                       شايد صداي باد باشه   \n",
       "4                   no                                       نه   \n",
       "5     stop please stop  دست نگه داريد خواهش ميکنم دست نگه داريد   \n",
       "\n",
       "                    Eng_Tok                                           Far_Tok  \\\n",
       "ID                                                                              \n",
       "1        [raspy, breathing]                                    [صداي, خر, خر]   \n",
       "2                     [dad]                                             [پدر]   \n",
       "3   [maybe, its, the, wind]                           [شايد, صداي, باد, باشه]   \n",
       "4                      [no]                                              [نه]   \n",
       "5      [stop, please, stop]  [دست, نگه, داريد, خواهش, ميکنم, دست, نگه, داريد]   \n",
       "\n",
       "    Eng_Len  Far_Len                Eng_Types  \\\n",
       "ID                                              \n",
       "1         2        3       {raspy, breathing}   \n",
       "2         1        1                    {dad}   \n",
       "3         4        4  {wind, maybe, the, its}   \n",
       "4         1        1                     {no}   \n",
       "5         3        8           {please, stop}   \n",
       "\n",
       "                          Far_Types  \\\n",
       "ID                                    \n",
       "1                        {صداي, خر}   \n",
       "2                             {پدر}   \n",
       "3           {صداي, شايد, باد, باشه}   \n",
       "4                              {نه}   \n",
       "5   {خواهش, دست, نگه, ميکنم, داريد}   \n",
       "\n",
       "                                              Far_POS  \\\n",
       "ID                                                      \n",
       "1                    [(صداي, NUM), (خر, Ne), (خر, N)]   \n",
       "2                                          [(پدر, N)]   \n",
       "3       [(شايد, Ne), (صداي, AJ), (باد, V), (باشه, V)]   \n",
       "4                                         [(نه, ADV)]   \n",
       "5   [(دست, N), (نگه, N), (داريد, V), (خواهش, Ne), ...   \n",
       "\n",
       "                                           Far_Chunks  \\\n",
       "ID                                                      \n",
       "1                                     [صداي خر خر NP]   \n",
       "2                                            [پدر NP]   \n",
       "3                   [شايد صداي NP] [باد VP] [باشه VP]   \n",
       "4                                                  نه   \n",
       "5   [دست NP] [نگه داريد VP] [خواهش ميکنم دست NP] [...   \n",
       "\n",
       "                                              Eng_POS  \\\n",
       "ID                                                      \n",
       "1                      [(raspy, NN), (breathing, NN)]   \n",
       "2                                         [(dad, NN)]   \n",
       "3   [(maybe, RB), (its, PRP$), (the, DT), (wind, NN)]   \n",
       "4                                          [(no, DT)]   \n",
       "5              [(stop, JJ), (please, NN), (stop, VB)]   \n",
       "\n",
       "                                           Eng_Chunks Word_Order_Final  \n",
       "ID                                                                      \n",
       "1                    [[(raspy, NN), (breathing, NN)]]            Other  \n",
       "2                                       [[(dad, NN)]]            Other  \n",
       "3   [(maybe, RB), (its, PRP$), [(the, DT), (wind, ...            Other  \n",
       "4                                        [[(no, DT)]]            Other  \n",
       "5    [[(stop, JJ), (please, NN)], [[('stop', 'VB')]]]              SVO  "
      ]
     },
     "execution_count": 34,
     "metadata": {},
     "output_type": "execute_result"
    },
    {
     "data": {
      "text/plain": [
       "Other    422525\n",
       "SOV      120607\n",
       "SVO       68954\n",
       "Name: Word_Order_Final, dtype: int64"
      ]
     },
     "execution_count": 34,
     "metadata": {},
     "output_type": "execute_result"
    }
   ],
   "source": [
    "full_df.head()\n",
    "full_df['Word_Order_Final'].value_counts()"
   ]
  },
  {
   "cell_type": "markdown",
   "metadata": {},
   "source": [
    "Let's visualize!!"
   ]
  },
  {
   "cell_type": "code",
   "execution_count": 35,
   "metadata": {},
   "outputs": [],
   "source": [
    "count_df = pd.DataFrame({'Word_Order': [440216, 120607 , 51263]},\n",
    "                        index=['Other', 'SOV', 'SVO'])"
   ]
  },
  {
   "cell_type": "code",
   "execution_count": 36,
   "metadata": {},
   "outputs": [
    {
     "data": {
      "text/plain": [
       "<matplotlib.axes._subplots.AxesSubplot object at 0x000002BD0FC9D5F8>"
      ]
     },
     "execution_count": 36,
     "metadata": {},
     "output_type": "execute_result"
    },
    {
     "data": {
      "image/png": "[encoded data removed]",
      "text/plain": [
       "<Figure size 360x360 with 1 Axes>"
      ]
     },
     "metadata": {},
     "output_type": "display_data"
    },
    {
     "data": {
      "text/plain": [
       "<Figure size 432x288 with 0 Axes>"
      ]
     },
     "metadata": {},
     "output_type": "display_data"
    }
   ],
   "source": [
    "count_df.plot.pie(y='Word_Order', figsize=(5, 5))\n",
    "figure_2 = plt.figure()\n",
    "\n",
    "figure_2.savefig('gen_word_order_pie.png')"
   ]
  },
  {
   "cell_type": "markdown",
   "metadata": {},
   "source": [
    "Certainly, this isn't the most _ideal_ data -- nearly 75% of the data are labeled as \"Other\" (however, this is much better than attempts using regex, whose closet values were 83% labeled as \"Other\"). There are a few possible explanations for such a great deal of the data not being categorized as SOV or SVO:\n",
    "- Chunker mischunked the data, therefore giving incorrect structures\n",
    "- Regex are too restrictive in their selection (need editing)\n",
    "- Various factors do not take into account the pro-drop nature of Persian\n",
    "- Data itself consists of many one-word phrases that lack complex word order."
   ]
  },
  {
   "cell_type": "markdown",
   "metadata": {},
   "source": [
    "### Section 4: Exporting Files"
   ]
  },
  {
   "cell_type": "code",
   "execution_count": 37,
   "metadata": {},
   "outputs": [],
   "source": [
    "booleans = []\n",
    "for order in full_df['Word_Order_Final']:\n",
    "    if order == 'Other':\n",
    "        booleans.append(False)\n",
    "    else:\n",
    "        booleans.append(True)"
   ]
  },
  {
   "cell_type": "code",
   "execution_count": 38,
   "metadata": {},
   "outputs": [
    {
     "data": {
      "text/plain": [
       "612086"
      ]
     },
     "execution_count": 38,
     "metadata": {},
     "output_type": "execute_result"
    }
   ],
   "source": [
    "# Checking the length\n",
    "len(booleans)"
   ]
  },
  {
   "cell_type": "markdown",
   "metadata": {},
   "source": [
    "Now we'll turn this list into a Series so that way we can use it to organize the DF:"
   ]
  },
  {
   "cell_type": "code",
   "execution_count": 39,
   "metadata": {},
   "outputs": [],
   "source": [
    "is_ordered = pd.Series(booleans)"
   ]
  },
  {
   "cell_type": "markdown",
   "metadata": {},
   "source": [
    "Wait! The index for full_df starts at 1, not 0. Let's reset that:"
   ]
  },
  {
   "cell_type": "code",
   "execution_count": 40,
   "metadata": {},
   "outputs": [],
   "source": [
    "full_df.reset_index(inplace = True)"
   ]
  },
  {
   "cell_type": "markdown",
   "metadata": {},
   "source": [
    "Now to create the \"ordered only\" DF:"
   ]
  },
  {
   "cell_type": "code",
   "execution_count": 41,
   "metadata": {},
   "outputs": [],
   "source": [
    "ordered_only_df = full_df[is_ordered]"
   ]
  },
  {
   "cell_type": "code",
   "execution_count": 42,
   "metadata": {},
   "outputs": [
    {
     "data": {
      "text/html": [
       "<div>\n",
       "<style scoped>\n",
       "    .dataframe tbody tr th:only-of-type {\n",
       "        vertical-align: middle;\n",
       "    }\n",
       "\n",
       "    .dataframe tbody tr th {\n",
       "        vertical-align: top;\n",
       "    }\n",
       "\n",
       "    .dataframe thead th {\n",
       "        text-align: right;\n",
       "    }\n",
       "</style>\n",
       "<table border=\"1\" class=\"dataframe\">\n",
       "  <thead>\n",
       "    <tr style=\"text-align: right;\">\n",
       "      <th></th>\n",
       "      <th>ID</th>\n",
       "      <th>Eng</th>\n",
       "      <th>Far</th>\n",
       "      <th>Eng_Tok</th>\n",
       "      <th>Far_Tok</th>\n",
       "      <th>Eng_Len</th>\n",
       "      <th>Far_Len</th>\n",
       "      <th>Eng_Types</th>\n",
       "      <th>Far_Types</th>\n",
       "      <th>Far_POS</th>\n",
       "      <th>Far_Chunks</th>\n",
       "      <th>Eng_POS</th>\n",
       "      <th>Eng_Chunks</th>\n",
       "      <th>Word_Order_Final</th>\n",
       "    </tr>\n",
       "  </thead>\n",
       "  <tbody>\n",
       "    <tr>\n",
       "      <th>4</th>\n",
       "      <td>5</td>\n",
       "      <td>stop please stop</td>\n",
       "      <td>دست نگه داريد خواهش ميکنم دست نگه داريد</td>\n",
       "      <td>[stop, please, stop]</td>\n",
       "      <td>[دست, نگه, داريد, خواهش, ميکنم, دست, نگه, داريد]</td>\n",
       "      <td>3</td>\n",
       "      <td>8</td>\n",
       "      <td>{please, stop}</td>\n",
       "      <td>{خواهش, دست, نگه, ميکنم, داريد}</td>\n",
       "      <td>[(دست, N), (نگه, N), (داريد, V), (خواهش, Ne), ...</td>\n",
       "      <td>[دست NP] [نگه داريد VP] [خواهش ميکنم دست NP] [...</td>\n",
       "      <td>[(stop, JJ), (please, NN), (stop, VB)]</td>\n",
       "      <td>[[(stop, JJ), (please, NN)], [[('stop', 'VB')]]]</td>\n",
       "      <td>SVO</td>\n",
       "    </tr>\n",
       "    <tr>\n",
       "      <th>5</th>\n",
       "      <td>6</td>\n",
       "      <td>you have a week  evans then well burn the house</td>\n",
       "      <td>اوانز تو فقط يک هفته وقت داري وگرنه خونتو خواه...</td>\n",
       "      <td>[you, have, a, week, evans, then, well, burn, ...</td>\n",
       "      <td>[اوانز, تو, فقط, يک, هفته, وقت, داري, وگرنه, خ...</td>\n",
       "      <td>10</td>\n",
       "      <td>11</td>\n",
       "      <td>{house, burn, the, have, evans, then, well, yo...</td>\n",
       "      <td>{خواهيم, وقت, داري, خونتو, اوانز, وگرنه, فقط, ...</td>\n",
       "      <td>[(اوانز, Ne), (تو, PRO), (فقط, ADV), (يک, Ne),...</td>\n",
       "      <td>[اوانز تو NP] [فقط يک هفته وقت ADVP] [داري VP]...</td>\n",
       "      <td>[(you, PRP), (have, VBP), (a, DT), (week, NN),...</td>\n",
       "      <td>[(you, PRP), [[('have', 'VBP')], [('a', 'DT'),...</td>\n",
       "      <td>SVO</td>\n",
       "    </tr>\n",
       "    <tr>\n",
       "      <th>8</th>\n",
       "      <td>9</td>\n",
       "      <td>god damn it put that down</td>\n",
       "      <td>لعنت به تو اونو بذار زمين</td>\n",
       "      <td>[god, damn, it, put, that, down]</td>\n",
       "      <td>[لعنت, به, تو, اونو, بذار, زمين]</td>\n",
       "      <td>6</td>\n",
       "      <td>6</td>\n",
       "      <td>{damn, that, down, put, god, it}</td>\n",
       "      <td>{اونو, زمين, به, تو, لعنت, بذار}</td>\n",
       "      <td>[(لعنت, N), (به, P), (تو, PRO), (اونو, PRO), (...</td>\n",
       "      <td>[لعنت NP] [به PP] [تو NP] [اونو NP] [بذار VP] ...</td>\n",
       "      <td>[(god, NN), (damn, VBZ), (it, PRP), (put, VBD)...</td>\n",
       "      <td>[[(god, NN)], [[('damn', 'VBZ')]], (it, PRP), ...</td>\n",
       "      <td>SOV</td>\n",
       "    </tr>\n",
       "    <tr>\n",
       "      <th>10</th>\n",
       "      <td>11</td>\n",
       "      <td>its the last feed weve got</td>\n",
       "      <td>اين آخرين علوفه اي بود که ما داشتيم</td>\n",
       "      <td>[its, the, last, feed, weve, got]</td>\n",
       "      <td>[اين, آخرين, علوفه, اي, بود, که, ما, داشتيم]</td>\n",
       "      <td>6</td>\n",
       "      <td>8</td>\n",
       "      <td>{got, the, its, last, feed, weve}</td>\n",
       "      <td>{اين, ما, علوفه, آخرين, اي, که, داشتيم, بود}</td>\n",
       "      <td>[(اين, Ne), (آخرين, NUM), (علوفه, N), (اي, N),...</td>\n",
       "      <td>[اين آخرين علوفه NP] [اي NP] [بود VP] که [ما N...</td>\n",
       "      <td>[(its, PRP$), (the, DT), (last, JJ), (feed, NN...</td>\n",
       "      <td>[(its, PRP$), [(the, DT), (last, JJ), (feed, N...</td>\n",
       "      <td>SOV</td>\n",
       "    </tr>\n",
       "    <tr>\n",
       "      <th>13</th>\n",
       "      <td>14</td>\n",
       "      <td>herds over the ridge by now you go get cleaned up</td>\n",
       "      <td>گله را آوردم بيرون الان تو برو اونجا را تميز کن</td>\n",
       "      <td>[herds, over, the, ridge, by, now, you, go, ge...</td>\n",
       "      <td>[گله, را, آوردم, بيرون, الان, تو, برو, اونجا, ...</td>\n",
       "      <td>11</td>\n",
       "      <td>11</td>\n",
       "      <td>{herds, cleaned, ridge, go, the, now, you, by,...</td>\n",
       "      <td>{برو, اونجا, بيرون, گله, را, تو, کن, الان, آور...</td>\n",
       "      <td>[(گله, N), (را, POSTP), (آوردم, V), (بيرون, CO...</td>\n",
       "      <td>[گله NP] [را POSTP] [آوردم VP] بيرون [الان ADV...</td>\n",
       "      <td>[(herds, NNS), (over, IN), (the, DT), (ridge, ...</td>\n",
       "      <td>[(herds, NNS), [[('over', 'IN')], [('the', 'DT...</td>\n",
       "      <td>SVO</td>\n",
       "    </tr>\n",
       "  </tbody>\n",
       "</table>\n",
       "</div>"
      ],
      "text/plain": [
       "    ID                                                Eng  \\\n",
       "4    5                                   stop please stop   \n",
       "5    6    you have a week  evans then well burn the house   \n",
       "8    9                          god damn it put that down   \n",
       "10  11                         its the last feed weve got   \n",
       "13  14  herds over the ridge by now you go get cleaned up   \n",
       "\n",
       "                                                  Far  \\\n",
       "4             دست نگه داريد خواهش ميکنم دست نگه داريد   \n",
       "5   اوانز تو فقط يک هفته وقت داري وگرنه خونتو خواه...   \n",
       "8                           لعنت به تو اونو بذار زمين   \n",
       "10                اين آخرين علوفه اي بود که ما داشتيم   \n",
       "13    گله را آوردم بيرون الان تو برو اونجا را تميز کن   \n",
       "\n",
       "                                              Eng_Tok  \\\n",
       "4                                [stop, please, stop]   \n",
       "5   [you, have, a, week, evans, then, well, burn, ...   \n",
       "8                    [god, damn, it, put, that, down]   \n",
       "10                  [its, the, last, feed, weve, got]   \n",
       "13  [herds, over, the, ridge, by, now, you, go, ge...   \n",
       "\n",
       "                                              Far_Tok  Eng_Len  Far_Len  \\\n",
       "4    [دست, نگه, داريد, خواهش, ميکنم, دست, نگه, داريد]        3        8   \n",
       "5   [اوانز, تو, فقط, يک, هفته, وقت, داري, وگرنه, خ...       10       11   \n",
       "8                    [لعنت, به, تو, اونو, بذار, زمين]        6        6   \n",
       "10       [اين, آخرين, علوفه, اي, بود, که, ما, داشتيم]        6        8   \n",
       "13  [گله, را, آوردم, بيرون, الان, تو, برو, اونجا, ...       11       11   \n",
       "\n",
       "                                            Eng_Types  \\\n",
       "4                                      {please, stop}   \n",
       "5   {house, burn, the, have, evans, then, well, yo...   \n",
       "8                    {damn, that, down, put, god, it}   \n",
       "10                  {got, the, its, last, feed, weve}   \n",
       "13  {herds, cleaned, ridge, go, the, now, you, by,...   \n",
       "\n",
       "                                            Far_Types  \\\n",
       "4                     {خواهش, دست, نگه, ميکنم, داريد}   \n",
       "5   {خواهيم, وقت, داري, خونتو, اوانز, وگرنه, فقط, ...   \n",
       "8                    {اونو, زمين, به, تو, لعنت, بذار}   \n",
       "10       {اين, ما, علوفه, آخرين, اي, که, داشتيم, بود}   \n",
       "13  {برو, اونجا, بيرون, گله, را, تو, کن, الان, آور...   \n",
       "\n",
       "                                              Far_POS  \\\n",
       "4   [(دست, N), (نگه, N), (داريد, V), (خواهش, Ne), ...   \n",
       "5   [(اوانز, Ne), (تو, PRO), (فقط, ADV), (يک, Ne),...   \n",
       "8   [(لعنت, N), (به, P), (تو, PRO), (اونو, PRO), (...   \n",
       "10  [(اين, Ne), (آخرين, NUM), (علوفه, N), (اي, N),...   \n",
       "13  [(گله, N), (را, POSTP), (آوردم, V), (بيرون, CO...   \n",
       "\n",
       "                                           Far_Chunks  \\\n",
       "4   [دست NP] [نگه داريد VP] [خواهش ميکنم دست NP] [...   \n",
       "5   [اوانز تو NP] [فقط يک هفته وقت ADVP] [داري VP]...   \n",
       "8   [لعنت NP] [به PP] [تو NP] [اونو NP] [بذار VP] ...   \n",
       "10  [اين آخرين علوفه NP] [اي NP] [بود VP] که [ما N...   \n",
       "13  [گله NP] [را POSTP] [آوردم VP] بيرون [الان ADV...   \n",
       "\n",
       "                                              Eng_POS  \\\n",
       "4              [(stop, JJ), (please, NN), (stop, VB)]   \n",
       "5   [(you, PRP), (have, VBP), (a, DT), (week, NN),...   \n",
       "8   [(god, NN), (damn, VBZ), (it, PRP), (put, VBD)...   \n",
       "10  [(its, PRP$), (the, DT), (last, JJ), (feed, NN...   \n",
       "13  [(herds, NNS), (over, IN), (the, DT), (ridge, ...   \n",
       "\n",
       "                                           Eng_Chunks Word_Order_Final  \n",
       "4    [[(stop, JJ), (please, NN)], [[('stop', 'VB')]]]              SVO  \n",
       "5   [(you, PRP), [[('have', 'VBP')], [('a', 'DT'),...              SVO  \n",
       "8   [[(god, NN)], [[('damn', 'VBZ')]], (it, PRP), ...              SOV  \n",
       "10  [(its, PRP$), [(the, DT), (last, JJ), (feed, N...              SOV  \n",
       "13  [(herds, NNS), [[('over', 'IN')], [('the', 'DT...              SVO  "
      ]
     },
     "execution_count": 42,
     "metadata": {},
     "output_type": "execute_result"
    }
   ],
   "source": [
    "ordered_only_df.head()"
   ]
  },
  {
   "cell_type": "markdown",
   "metadata": {},
   "source": [
    "Pickle time!"
   ]
  },
  {
   "cell_type": "code",
   "execution_count": 43,
   "metadata": {},
   "outputs": [],
   "source": [
    "ordered_only_df.to_pickle('only_ordered_final.pkl')"
   ]
  },
  {
   "cell_type": "code",
   "execution_count": 44,
   "metadata": {},
   "outputs": [
    {
     "data": {
      "text/plain": [
       "422525"
      ]
     },
     "execution_count": 44,
     "metadata": {},
     "output_type": "execute_result"
    }
   ],
   "source": [
    "other_only_df = full_df[full_df['Word_Order_Final'] == 'Other']\n",
    "len(other_only_df)"
   ]
  },
  {
   "cell_type": "code",
   "execution_count": 45,
   "metadata": {},
   "outputs": [],
   "source": [
    "other_only_df.to_pickle('only_other_df.pkl')"
   ]
  },
  {
   "cell_type": "markdown",
   "metadata": {},
   "source": [
    "And that's it for now...! Time for some data analysis!"
   ]
  }
 ],
 "metadata": {
  "kernelspec": {
   "display_name": "Python 3",
   "language": "python",
   "name": "python3"
  },
  "language_info": {
   "codemirror_mode": {
    "name": "ipython",
    "version": 3
   },
   "file_extension": ".py",
   "mimetype": "text/x-python",
   "name": "python",
   "nbconvert_exporter": "python",
   "pygments_lexer": "ipython3",
   "version": "3.7.1"
  }
 },
 "nbformat": 4,
 "nbformat_minor": 2
}
