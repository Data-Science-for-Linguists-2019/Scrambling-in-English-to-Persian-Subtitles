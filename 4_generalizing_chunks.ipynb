{
 "cells": [
  {
   "cell_type": "markdown",
   "metadata": {},
   "source": [
    "# Generalizing Chunks\n",
    "#### John R. Starr; jrs294@pitt.edu\n",
    "Now that we have all of the data POS-tagged and chunked, it's time to generalize the chunks into categories: SOV, SVO, and an \"extraneous\" column EX (which will probably be filled by mis-parsed/mis-chunked data). At the most basic level, I intend on examining the number of noun phrases before the verb. If there are two, then we'll make it one. \n",
    "\n",
    "NOTE: I understand that the chunked data I have is by no means perfect; this is one of the limitations of my project.\n",
    "\n",
    "All right, let's load in the usual stuff:"
   ]
  },
  {
   "cell_type": "code",
   "execution_count": 1,
   "metadata": {},
   "outputs": [],
   "source": [
    "import nltk\n",
    "import numpy as np\n",
    "import pandas as pd"
   ]
  },
  {
   "cell_type": "code",
   "execution_count": 2,
   "metadata": {},
   "outputs": [],
   "source": [
    "full_df = pd.read_pickle('tagged_chunked_df.pkl')"
   ]
  },
  {
   "cell_type": "code",
   "execution_count": 3,
   "metadata": {},
   "outputs": [
    {
     "data": {
      "text/html": [
       "<div>\n",
       "<style scoped>\n",
       "    .dataframe tbody tr th:only-of-type {\n",
       "        vertical-align: middle;\n",
       "    }\n",
       "\n",
       "    .dataframe tbody tr th {\n",
       "        vertical-align: top;\n",
       "    }\n",
       "\n",
       "    .dataframe thead th {\n",
       "        text-align: right;\n",
       "    }\n",
       "</style>\n",
       "<table border=\"1\" class=\"dataframe\">\n",
       "  <thead>\n",
       "    <tr style=\"text-align: right;\">\n",
       "      <th></th>\n",
       "      <th>Eng</th>\n",
       "      <th>Far</th>\n",
       "      <th>Eng_Tok</th>\n",
       "      <th>Far_Tok</th>\n",
       "      <th>Eng_Len</th>\n",
       "      <th>Far_Len</th>\n",
       "      <th>Eng_Types</th>\n",
       "      <th>Far_Types</th>\n",
       "      <th>Far_POS</th>\n",
       "      <th>Far_Chunks</th>\n",
       "      <th>Eng_POS</th>\n",
       "      <th>Eng_Chunks</th>\n",
       "    </tr>\n",
       "    <tr>\n",
       "      <th>ID</th>\n",
       "      <th></th>\n",
       "      <th></th>\n",
       "      <th></th>\n",
       "      <th></th>\n",
       "      <th></th>\n",
       "      <th></th>\n",
       "      <th></th>\n",
       "      <th></th>\n",
       "      <th></th>\n",
       "      <th></th>\n",
       "      <th></th>\n",
       "      <th></th>\n",
       "    </tr>\n",
       "  </thead>\n",
       "  <tbody>\n",
       "    <tr>\n",
       "      <th>1</th>\n",
       "      <td>raspy breathing</td>\n",
       "      <td>صداي خر خر</td>\n",
       "      <td>[raspy, breathing]</td>\n",
       "      <td>[صداي, خر, خر]</td>\n",
       "      <td>2</td>\n",
       "      <td>3</td>\n",
       "      <td>{raspy, breathing}</td>\n",
       "      <td>{خر, صداي}</td>\n",
       "      <td>[(صداي, NUM), (خر, Ne), (خر, N)]</td>\n",
       "      <td>[صداي خر خر NP]</td>\n",
       "      <td>[(raspy, NN), (breathing, NN)]</td>\n",
       "      <td>[[(raspy, NN), (breathing, NN)]]</td>\n",
       "    </tr>\n",
       "    <tr>\n",
       "      <th>2</th>\n",
       "      <td>dad</td>\n",
       "      <td>پدر</td>\n",
       "      <td>[dad]</td>\n",
       "      <td>[پدر]</td>\n",
       "      <td>1</td>\n",
       "      <td>1</td>\n",
       "      <td>{dad}</td>\n",
       "      <td>{پدر}</td>\n",
       "      <td>[(پدر, N)]</td>\n",
       "      <td>[پدر NP]</td>\n",
       "      <td>[(dad, NN)]</td>\n",
       "      <td>[[(dad, NN)]]</td>\n",
       "    </tr>\n",
       "    <tr>\n",
       "      <th>3</th>\n",
       "      <td>maybe its the wind</td>\n",
       "      <td>شايد صداي باد باشه</td>\n",
       "      <td>[maybe, its, the, wind]</td>\n",
       "      <td>[شايد, صداي, باد, باشه]</td>\n",
       "      <td>4</td>\n",
       "      <td>4</td>\n",
       "      <td>{its, the, wind, maybe}</td>\n",
       "      <td>{باشه, باد, صداي, شايد}</td>\n",
       "      <td>[(شايد, Ne), (صداي, AJ), (باد, V), (باشه, V)]</td>\n",
       "      <td>[شايد صداي NP] [باد VP] [باشه VP]</td>\n",
       "      <td>[(maybe, RB), (its, PRP$), (the, DT), (wind, NN)]</td>\n",
       "      <td>[(maybe, RB), (its, PRP$), [(the, DT), (wind, ...</td>\n",
       "    </tr>\n",
       "    <tr>\n",
       "      <th>4</th>\n",
       "      <td>no</td>\n",
       "      <td>نه</td>\n",
       "      <td>[no]</td>\n",
       "      <td>[نه]</td>\n",
       "      <td>1</td>\n",
       "      <td>1</td>\n",
       "      <td>{no}</td>\n",
       "      <td>{نه}</td>\n",
       "      <td>[(نه, ADV)]</td>\n",
       "      <td>نه</td>\n",
       "      <td>[(no, DT)]</td>\n",
       "      <td>[[(no, DT)]]</td>\n",
       "    </tr>\n",
       "    <tr>\n",
       "      <th>5</th>\n",
       "      <td>stop please stop</td>\n",
       "      <td>دست نگه داريد خواهش ميکنم دست نگه داريد</td>\n",
       "      <td>[stop, please, stop]</td>\n",
       "      <td>[دست, نگه, داريد, خواهش, ميکنم, دست, نگه, داريد]</td>\n",
       "      <td>3</td>\n",
       "      <td>8</td>\n",
       "      <td>{stop, please}</td>\n",
       "      <td>{خواهش, ميکنم, دست, داريد, نگه}</td>\n",
       "      <td>[(دست, N), (نگه, N), (داريد, V), (خواهش, Ne), ...</td>\n",
       "      <td>[دست NP] [نگه داريد VP] [خواهش ميکنم دست NP] [...</td>\n",
       "      <td>[(stop, JJ), (please, NN), (stop, VB)]</td>\n",
       "      <td>[[(stop, JJ), (please, NN)], [[('stop', 'VB')]]]</td>\n",
       "    </tr>\n",
       "  </tbody>\n",
       "</table>\n",
       "</div>"
      ],
      "text/plain": [
       "                   Eng                                      Far  \\\n",
       "ID                                                                \n",
       "1      raspy breathing                               صداي خر خر   \n",
       "2                  dad                                      پدر   \n",
       "3   maybe its the wind                       شايد صداي باد باشه   \n",
       "4                   no                                       نه   \n",
       "5     stop please stop  دست نگه داريد خواهش ميکنم دست نگه داريد   \n",
       "\n",
       "                    Eng_Tok                                           Far_Tok  \\\n",
       "ID                                                                              \n",
       "1        [raspy, breathing]                                    [صداي, خر, خر]   \n",
       "2                     [dad]                                             [پدر]   \n",
       "3   [maybe, its, the, wind]                           [شايد, صداي, باد, باشه]   \n",
       "4                      [no]                                              [نه]   \n",
       "5      [stop, please, stop]  [دست, نگه, داريد, خواهش, ميکنم, دست, نگه, داريد]   \n",
       "\n",
       "    Eng_Len  Far_Len                Eng_Types  \\\n",
       "ID                                              \n",
       "1         2        3       {raspy, breathing}   \n",
       "2         1        1                    {dad}   \n",
       "3         4        4  {its, the, wind, maybe}   \n",
       "4         1        1                     {no}   \n",
       "5         3        8           {stop, please}   \n",
       "\n",
       "                          Far_Types  \\\n",
       "ID                                    \n",
       "1                        {خر, صداي}   \n",
       "2                             {پدر}   \n",
       "3           {باشه, باد, صداي, شايد}   \n",
       "4                              {نه}   \n",
       "5   {خواهش, ميکنم, دست, داريد, نگه}   \n",
       "\n",
       "                                              Far_POS  \\\n",
       "ID                                                      \n",
       "1                    [(صداي, NUM), (خر, Ne), (خر, N)]   \n",
       "2                                          [(پدر, N)]   \n",
       "3       [(شايد, Ne), (صداي, AJ), (باد, V), (باشه, V)]   \n",
       "4                                         [(نه, ADV)]   \n",
       "5   [(دست, N), (نگه, N), (داريد, V), (خواهش, Ne), ...   \n",
       "\n",
       "                                           Far_Chunks  \\\n",
       "ID                                                      \n",
       "1                                     [صداي خر خر NP]   \n",
       "2                                            [پدر NP]   \n",
       "3                   [شايد صداي NP] [باد VP] [باشه VP]   \n",
       "4                                                  نه   \n",
       "5   [دست NP] [نگه داريد VP] [خواهش ميکنم دست NP] [...   \n",
       "\n",
       "                                              Eng_POS  \\\n",
       "ID                                                      \n",
       "1                      [(raspy, NN), (breathing, NN)]   \n",
       "2                                         [(dad, NN)]   \n",
       "3   [(maybe, RB), (its, PRP$), (the, DT), (wind, NN)]   \n",
       "4                                          [(no, DT)]   \n",
       "5              [(stop, JJ), (please, NN), (stop, VB)]   \n",
       "\n",
       "                                           Eng_Chunks  \n",
       "ID                                                     \n",
       "1                    [[(raspy, NN), (breathing, NN)]]  \n",
       "2                                       [[(dad, NN)]]  \n",
       "3   [(maybe, RB), (its, PRP$), [(the, DT), (wind, ...  \n",
       "4                                        [[(no, DT)]]  \n",
       "5    [[(stop, JJ), (please, NN)], [[('stop', 'VB')]]]  "
      ]
     },
     "execution_count": 3,
     "metadata": {},
     "output_type": "execute_result"
    }
   ],
   "source": [
    "full_df.head()"
   ]
  },
  {
   "cell_type": "markdown",
   "metadata": {},
   "source": [
    "Rather than working on the full DF, let's create a smaller one that we can run functions on faster...:"
   ]
  },
  {
   "cell_type": "code",
   "execution_count": 4,
   "metadata": {},
   "outputs": [],
   "source": [
    "small_df = full_df.iloc[:100]"
   ]
  },
  {
   "cell_type": "markdown",
   "metadata": {},
   "source": [
    "Let's see what type of data we're working with. Because we're looking for the abnormalities in Persian word order, we only need to focus on that data. So, what's it all look like?"
   ]
  },
  {
   "cell_type": "code",
   "execution_count": 5,
   "metadata": {},
   "outputs": [
    {
     "name": "stdout",
     "output_type": "stream",
     "text": [
      "[صداي خر خر NP]\n",
      "[\n",
      "\n",
      "[پدر NP]\n",
      "[\n",
      "\n",
      "[شايد صداي NP] [باد VP] [باشه VP]\n",
      "[\n",
      "\n",
      "نه\n",
      "ن\n",
      "\n",
      "[دست NP] [نگه داريد VP] [خواهش ميکنم دست NP] [نگه داريد VP]\n",
      "[\n",
      "\n"
     ]
    }
   ],
   "source": [
    "# Gathering some information on the Persian data:\n",
    "for item in small_df.Far_Chunks.iloc[:5]:\n",
    "    print(item)\n",
    "    print(item[0])\n",
    "    print()"
   ]
  },
  {
   "cell_type": "markdown",
   "metadata": {},
   "source": [
    "Ah.. it seems that our data is in string format...! This makes things a little more annoying to navigate. If only the data were in tuple form! Oh well...  Let's try using RegEx to search through this and get the word order that we want.\n",
    "\n",
    "NOTE: Persian reads from right-to-left; however, the chunker flips the sentence backward so that it can be read \"left-to-right\" and can be more easily compared with languages like English. If this is confusing now, I'll explain more in my presentation."
   ]
  },
  {
   "cell_type": "code",
   "execution_count": 6,
   "metadata": {},
   "outputs": [],
   "source": [
    "# Importing...\n",
    "import re"
   ]
  },
  {
   "cell_type": "markdown",
   "metadata": {},
   "source": [
    "Let's try a test regex that looks for SVO word-order:"
   ]
  },
  {
   "cell_type": "code",
   "execution_count": 7,
   "metadata": {},
   "outputs": [
    {
     "data": {
      "text/plain": [
       "33"
      ]
     },
     "execution_count": 7,
     "metadata": {},
     "output_type": "execute_result"
    }
   ],
   "source": [
    "# SVO\n",
    "SVO_test = []\n",
    "for x in small_df.Far_Chunks:\n",
    "    if re.findall('(NP)[^NP]*VP[^VP]*(NP)+[^VP]*', x):\n",
    "        # The goal of the regex is as follows:\n",
    "            # One NP, then any characters besides another NP, then a VP, then an NP (presumably the object)\n",
    "        SVO_test.append(x)\n",
    "len(SVO_test)"
   ]
  },
  {
   "cell_type": "markdown",
   "metadata": {},
   "source": [
    "What kind of sentences are we looking at right now?"
   ]
  },
  {
   "cell_type": "code",
   "execution_count": 8,
   "metadata": {},
   "outputs": [
    {
     "data": {
      "text/plain": [
       "['[مارک اول اينکه من NP] [ميخوام شما NP] [پسرهارو NP] [با PP] [خودم NP] [ببرم VP] و [ما NP] [گله NP] [را POSTP] [جمع NP] [خواهيم کرد VP] [بعد ADVP] [من NP] [به PP] [شهر ميرم NP]',\n",
       " '[من NP] [به PP] [هلندر NP] [ميگم VP] که [اينو NP] [درستش ADJP] [کنه VP]',\n",
       " '[من NP] [بهش NP] [ميگم VP] [پول يک اسطبل NP] [جديدو بده VP]',\n",
       " '[شايد ما NP] [بايد VP] [بهش PP] [تير NP] [اندازي VP] کنيم [همونجور NP] که [ويل ميگه NP]',\n",
       " '[تو NP] [بايد VP] [ميگذاشتي من NP] [علوفه هارو NP] [نگه دارم VP]',\n",
       " '[يه NP] [روزي VP] که [مثل PP] [من NP] [شدي VP] [تو NP] [اونوقت ميفهمي NP]',\n",
       " '[خوب ADJP] [يک نگاه NP] [به PP] [اينا NP] [ميکني VP] [همه چيزهايي NP] که [داري PP] [هيچ مصرفي NP] [نداره VP]',\n",
       " '[هيچ چيزي NP] [عوض نميشه VP] اگر [من NP] [زنده ADJP] [بمونم VP]',\n",
       " '[ميخوام NP] که [پول هارو NP] [بذارين زمين NP] [بريد VP] [عقب بهشون ADJP] [بگو VP] [برن NP] [عقب ADVP] [يا اين مرد ميميره NP]',\n",
       " '[الان ADVP] [ميدونم VP] که [چارلي NP] [بهت PP] [چي گفته NP] [براي VP] اينکه [ما NP] چيزي [تو NP] [اين گروه NP] [نداريم VP] [بجز PP] [چندتا قانون NP]']"
      ]
     },
     "execution_count": 8,
     "metadata": {},
     "output_type": "execute_result"
    }
   ],
   "source": [
    "SVO_test[10:20]"
   ]
  },
  {
   "cell_type": "markdown",
   "metadata": {},
   "source": [
    "Unfortunately, my chunker isn't the best. There are some clear errors with its labeling. For example, the first sentence up above has the [ميخوام شما] labeled as an \"NP\", even though \"میخواهم\" is a verb. It also doesn't take into account colloquial spellings of certain verbs [برم]...! The reason behind this is that Persian varies greatly between its spoken and written forms.\n",
    "\n",
    "All things considered, though, this looks pretty good! The patterns I want are all in the data as best that the chunker allows...!\n",
    "\n",
    "Now, let's check out SOV sentences. I predict that there will be more of these:"
   ]
  },
  {
   "cell_type": "code",
   "execution_count": 9,
   "metadata": {},
   "outputs": [
    {
     "data": {
      "text/plain": [
       "38"
      ]
     },
     "execution_count": 9,
     "metadata": {},
     "output_type": "execute_result"
    }
   ],
   "source": [
    "# SOV\n",
    "SOV_test = []\n",
    "for x in small_df.Far_Chunks[:100]:\n",
    "    if re.findall('(NP)[^VP]*(NP)+(VP)*[^NP]', x):\n",
    "        SOV_test.append(x)\n",
    "len(SOV_test)"
   ]
  },
  {
   "cell_type": "code",
   "execution_count": 10,
   "metadata": {},
   "outputs": [
    {
     "data": {
      "text/plain": [
       "['[تو NP] [ميخواي NP] [به PP] [مارشال NP] [بگي VP] که [اون آدما چيکار کردن NP]',\n",
       " '[مارک اول اينکه من NP] [ميخوام شما NP] [پسرهارو NP] [با PP] [خودم NP] [ببرم VP] و [ما NP] [گله NP] [را POSTP] [جمع NP] [خواهيم کرد VP] [بعد ADVP] [من NP] [به PP] [شهر ميرم NP]',\n",
       " '[من NP] [بهش NP] [ميگم VP] [پول يک اسطبل NP] [جديدو بده VP]',\n",
       " '[شايد ما NP] [بايد VP] [بهش PP] [تير NP] [اندازي VP] کنيم [همونجور NP] که [ويل ميگه NP]',\n",
       " '[دور NP] [تا PP] [دورش NP] [از PP] [آهنه يک NP] [چيزايي بالاش NP] [دوتا شاتگان زن و يک تيربار NP]',\n",
       " '[تو NP] [بايد VP] [ميگذاشتي من NP] [علوفه هارو NP] [نگه دارم VP]',\n",
       " '[يه NP] [روزي VP] که [مثل PP] [من NP] [شدي VP] [تو NP] [اونوقت ميفهمي NP]',\n",
       " '[اون تويي NP] [خانم کوچولو NP]',\n",
       " '[من NP] [بايد VP] [بگم VP] که [احتمالا ADVP] [بي PP] [ارزشتر NP] [از PP] [اونيه NP] که [من NP] [بخوام VP] [چيزي ازش بدزدم VP]',\n",
       " '[من NP] [تورو NP] [نميخوام بکشم VP]']"
      ]
     },
     "execution_count": 10,
     "metadata": {},
     "output_type": "execute_result"
    }
   ],
   "source": [
    "SOV_test[10:20]"
   ]
  },
  {
   "cell_type": "markdown",
   "metadata": {},
   "source": [
    "This looks a _lot_ better than the SVO output, which isn't unexpected -- since Persian tends towards SOV word order, it makes sense that the data here is much cleaner. Now let's build a function that will do all this automatically...! We're going to look for SVO, SOV, and \"Other\" word order, with \"Other\" covering the sentence fragments or other strange speech patterns that appear in everyday language."
   ]
  },
  {
   "cell_type": "markdown",
   "metadata": {},
   "source": [
    "Building a function:"
   ]
  },
  {
   "cell_type": "code",
   "execution_count": 11,
   "metadata": {},
   "outputs": [],
   "source": [
    "def gen_word_order(text):\n",
    "    if re.findall('(NP)[^NP]*VP[^VP]*(NP)+[^VP]*', text):\n",
    "        return 'SVO'\n",
    "    elif re.findall('(NP)[^VP]*(NP)+(VP)*[^NP]', text):\n",
    "        return 'SOV'\n",
    "    else:\n",
    "        return 'Other'"
   ]
  },
  {
   "cell_type": "markdown",
   "metadata": {},
   "source": [
    "How's it apply to our small_df?"
   ]
  },
  {
   "cell_type": "code",
   "execution_count": 12,
   "metadata": {},
   "outputs": [
    {
     "name": "stderr",
     "output_type": "stream",
     "text": [
      "C:\\Users\\16starjo\\Documents\\Anaconda3\\lib\\site-packages\\ipykernel_launcher.py:1: SettingWithCopyWarning: \n",
      "A value is trying to be set on a copy of a slice from a DataFrame.\n",
      "Try using .loc[row_indexer,col_indexer] = value instead\n",
      "\n",
      "See the caveats in the documentation: http://pandas.pydata.org/pandas-docs/stable/indexing.html#indexing-view-versus-copy\n",
      "  \"\"\"Entry point for launching an IPython kernel.\n"
     ]
    }
   ],
   "source": [
    "small_df['Word_Order'] = small_df['Far_Chunks'].apply(gen_word_order)"
   ]
  },
  {
   "cell_type": "code",
   "execution_count": 13,
   "metadata": {},
   "outputs": [
    {
     "data": {
      "text/html": [
       "<div>\n",
       "<style scoped>\n",
       "    .dataframe tbody tr th:only-of-type {\n",
       "        vertical-align: middle;\n",
       "    }\n",
       "\n",
       "    .dataframe tbody tr th {\n",
       "        vertical-align: top;\n",
       "    }\n",
       "\n",
       "    .dataframe thead th {\n",
       "        text-align: right;\n",
       "    }\n",
       "</style>\n",
       "<table border=\"1\" class=\"dataframe\">\n",
       "  <thead>\n",
       "    <tr style=\"text-align: right;\">\n",
       "      <th></th>\n",
       "      <th>Eng</th>\n",
       "      <th>Far</th>\n",
       "      <th>Eng_Tok</th>\n",
       "      <th>Far_Tok</th>\n",
       "      <th>Eng_Len</th>\n",
       "      <th>Far_Len</th>\n",
       "      <th>Eng_Types</th>\n",
       "      <th>Far_Types</th>\n",
       "      <th>Far_POS</th>\n",
       "      <th>Far_Chunks</th>\n",
       "      <th>Eng_POS</th>\n",
       "      <th>Eng_Chunks</th>\n",
       "      <th>Word_Order</th>\n",
       "    </tr>\n",
       "    <tr>\n",
       "      <th>ID</th>\n",
       "      <th></th>\n",
       "      <th></th>\n",
       "      <th></th>\n",
       "      <th></th>\n",
       "      <th></th>\n",
       "      <th></th>\n",
       "      <th></th>\n",
       "      <th></th>\n",
       "      <th></th>\n",
       "      <th></th>\n",
       "      <th></th>\n",
       "      <th></th>\n",
       "      <th></th>\n",
       "    </tr>\n",
       "  </thead>\n",
       "  <tbody>\n",
       "    <tr>\n",
       "      <th>91</th>\n",
       "      <td>by mr ben wade himself</td>\n",
       "      <td>بوسيله خود بن ويد</td>\n",
       "      <td>[by, mr, ben, wade, himself]</td>\n",
       "      <td>[بوسيله, خود, بن, ويد]</td>\n",
       "      <td>5</td>\n",
       "      <td>4</td>\n",
       "      <td>{ben, by, himself, mr, wade}</td>\n",
       "      <td>{بن, ويد, خود, بوسيله}</td>\n",
       "      <td>[(بوسيله, Ne), (خود, PRO), (بن, Ne), (ويد, N)]</td>\n",
       "      <td>[بوسيله خود بن ويد NP]</td>\n",
       "      <td>[(by, IN), (mr, JJ), (ben, NN), (wade, VBD), (...</td>\n",
       "      <td>[[[('by', 'IN')], [('mr', 'JJ'), ('ben', 'NN')...</td>\n",
       "      <td>Other</td>\n",
       "    </tr>\n",
       "    <tr>\n",
       "      <th>92</th>\n",
       "      <td>how did you know it was wade</td>\n",
       "      <td>تو از کجا فهميدي که اون ويد بود</td>\n",
       "      <td>[how, did, you, know, it, was, wade]</td>\n",
       "      <td>[تو, از, کجا, فهميدي, که, اون, ويد, بود]</td>\n",
       "      <td>7</td>\n",
       "      <td>8</td>\n",
       "      <td>{know, you, it, did, how, was, wade}</td>\n",
       "      <td>{فهميدي, کجا, بود, از, که, تو, ويد, اون}</td>\n",
       "      <td>[(تو, PRO), (از, P), (کجا, ADV), (فهميدي, V), ...</td>\n",
       "      <td>[تو NP] [از PP] [کجا NP] [فهميدي VP] که [اون و...</td>\n",
       "      <td>[(how, WRB), (did, VBD), (you, PRP), (know, VB...</td>\n",
       "      <td>[(how, WRB), [[('did', 'VBD')]], (you, PRP), [...</td>\n",
       "      <td>SVO</td>\n",
       "    </tr>\n",
       "    <tr>\n",
       "      <th>93</th>\n",
       "      <td>its been him the last 21 times  marshal</td>\n",
       "      <td>اون خودش بود توي 21 بار قبلي مارشال</td>\n",
       "      <td>[its, been, him, the, last, 21, times, marshal]</td>\n",
       "      <td>[اون, خودش, بود, توي, 21, بار, قبلي, مارشال]</td>\n",
       "      <td>8</td>\n",
       "      <td>8</td>\n",
       "      <td>{its, marshal, the, times, been, him, last, 21}</td>\n",
       "      <td>{مارشال, قبلي, توي, بود, خودش, بار, اون, 21}</td>\n",
       "      <td>[(اون, PRO), (خودش, PRO), (بود, V), (توي, N), ...</td>\n",
       "      <td>[اون NP] [خودش NP] [بود VP] [توي NP] [21 بار A...</td>\n",
       "      <td>[(its, PRP$), (been, VBN), (him, PRP), (the, D...</td>\n",
       "      <td>[(its, PRP$), [[('been', 'VBN')]], (him, PRP),...</td>\n",
       "      <td>SVO</td>\n",
       "    </tr>\n",
       "    <tr>\n",
       "      <th>94</th>\n",
       "      <td>i saw a mexican sharpshooter and an apache</td>\n",
       "      <td>من يک تير انداز ماهر مکزيکي و يک آپاچي باهاش ديدم</td>\n",
       "      <td>[i, saw, a, mexican, sharpshooter, and, an, ap...</td>\n",
       "      <td>[من, يک, تير, انداز, ماهر, مکزيکي, و, يک, آپاچ...</td>\n",
       "      <td>8</td>\n",
       "      <td>11</td>\n",
       "      <td>{apache, a, sharpshooter, an, i, saw, and, mex...</td>\n",
       "      <td>{يک, من, باهاش, ديدم, تير, مکزيکي, آپاچي, اندا...</td>\n",
       "      <td>[(من, PRO), (يک, NUM), (تير, Ne), (انداز, AJe)...</td>\n",
       "      <td>[من NP] [يک تير انداز ماهر NP] [مکزيکي VP] و [...</td>\n",
       "      <td>[(i, NN), (saw, VBD), (a, DT), (mexican, JJ), ...</td>\n",
       "      <td>[[(i, NN)], [[('saw', 'VBD')], [('a', 'DT'), (...</td>\n",
       "      <td>SVO</td>\n",
       "    </tr>\n",
       "    <tr>\n",
       "      <th>95</th>\n",
       "      <td>did you see the hand of god whats that</td>\n",
       "      <td>تو دست خدا را ديدي اون چيه ديگه</td>\n",
       "      <td>[did, you, see, the, hand, of, god, whats, that]</td>\n",
       "      <td>[تو, دست, خدا, را, ديدي, اون, چيه, ديگه]</td>\n",
       "      <td>9</td>\n",
       "      <td>8</td>\n",
       "      <td>{you, see, that, of, the, did, whats, hand, god}</td>\n",
       "      <td>{چيه, دست, را, ديدي, خدا, ديگه, تو, اون}</td>\n",
       "      <td>[(تو, PRO), (دست, Ne), (خدا, N), (را, POSTP), ...</td>\n",
       "      <td>[تو NP] [دست خدا NP] [را POSTP] [ديدي PP] [اون...</td>\n",
       "      <td>[(did, VBD), (you, PRP), (see, VB), (the, DT),...</td>\n",
       "      <td>[[[('did', 'VBD')]], (you, PRP), [[('see', 'VB...</td>\n",
       "      <td>SOV</td>\n",
       "    </tr>\n",
       "    <tr>\n",
       "      <th>96</th>\n",
       "      <td>his pistol why the hell didnt you do something</td>\n",
       "      <td>هفت تيرش چرا تو هيچ کاري نکردي</td>\n",
       "      <td>[his, pistol, why, the, hell, didnt, you, do, ...</td>\n",
       "      <td>[هفت, تيرش, چرا, تو, هيچ, کاري, نکردي]</td>\n",
       "      <td>9</td>\n",
       "      <td>7</td>\n",
       "      <td>{pistol, you, didnt, hell, the, something, why...</td>\n",
       "      <td>{تيرش, نکردي, هفت, چرا, کاري, تو, هيچ}</td>\n",
       "      <td>[(هفت, NUM), (تيرش, N), (چرا, ADV), (تو, PRO),...</td>\n",
       "      <td>[هفت تيرش NP] [چرا ADVP] [تو NP] [هيچ کاري NP]...</td>\n",
       "      <td>[(his, PRP$), (pistol, NN), (why, WRB), (the, ...</td>\n",
       "      <td>[(his, PRP$), [(pistol, NN)], (why, WRB), [(th...</td>\n",
       "      <td>SVO</td>\n",
       "    </tr>\n",
       "    <tr>\n",
       "      <th>97</th>\n",
       "      <td>they had a lot of weapons  mr and they were sh...</td>\n",
       "      <td>اونا کلي اسلحه داشتن آقا و اونا گلوله شليک ميکردن</td>\n",
       "      <td>[they, had, a, lot, of, weapons, mr, and, they...</td>\n",
       "      <td>[اونا, کلي, اسلحه, داشتن, آقا, و, اونا, گلوله,...</td>\n",
       "      <td>12</td>\n",
       "      <td>10</td>\n",
       "      <td>{a, shooting, and, of, mr, they, had, weapons,...</td>\n",
       "      <td>{اسلحه, آقا, شليک, اونا, ميکردن, داشتن, گلوله,...</td>\n",
       "      <td>[(اونا, PRO), (کلي, CONJ), (اسلحه, N), (داشتن,...</td>\n",
       "      <td>[اونا NP] کلي [اسلحه داشتن آقا و اونا گلوله شل...</td>\n",
       "      <td>[(they, PRP), (had, VBD), (a, DT), (lot, NN), ...</td>\n",
       "      <td>[(they, PRP), [[('had', 'VBD')], [('a', 'DT'),...</td>\n",
       "      <td>SOV</td>\n",
       "    </tr>\n",
       "    <tr>\n",
       "      <th>98</th>\n",
       "      <td>lets go  were wasting time</td>\n",
       "      <td>بريم داريم وقت تلف ميکنيم</td>\n",
       "      <td>[lets, go, were, wasting, time]</td>\n",
       "      <td>[بريم, داريم, وقت, تلف, ميکنيم]</td>\n",
       "      <td>5</td>\n",
       "      <td>5</td>\n",
       "      <td>{wasting, go, were, time, lets}</td>\n",
       "      <td>{وقت, تلف, بريم, ميکنيم, داريم}</td>\n",
       "      <td>[(بريم, N), (داريم, V), (وقت, Ne), (تلف, Ne), ...</td>\n",
       "      <td>[بريم NP] [داريم VP] [وقت تلف ميکنيم NP]</td>\n",
       "      <td>[(lets, NNS), (go, VBP), (were, VBD), (wasting...</td>\n",
       "      <td>[(lets, NNS), [[('go', 'VBP')]], [[('were', 'V...</td>\n",
       "      <td>SVO</td>\n",
       "    </tr>\n",
       "    <tr>\n",
       "      <th>99</th>\n",
       "      <td>where are you from anyway</td>\n",
       "      <td>درهرصورت تو کجايي هستي</td>\n",
       "      <td>[where, are, you, from, anyway]</td>\n",
       "      <td>[درهرصورت, تو, کجايي, هستي]</td>\n",
       "      <td>5</td>\n",
       "      <td>4</td>\n",
       "      <td>{where, anyway, you, are, from}</td>\n",
       "      <td>{تو, درهرصورت, کجايي, هستي}</td>\n",
       "      <td>[(درهرصورت, CONJ), (تو, PRO), (کجايي, V), (هست...</td>\n",
       "      <td>[درهرصورت ADVP] [تو NP] [کجايي VP] هستي</td>\n",
       "      <td>[(where, WRB), (are, VBP), (you, PRP), (from, ...</td>\n",
       "      <td>[(where, WRB), [[('are', 'VBP')]], (you, PRP),...</td>\n",
       "      <td>Other</td>\n",
       "    </tr>\n",
       "    <tr>\n",
       "      <th>100</th>\n",
       "      <td>lets go com on  boys</td>\n",
       "      <td>بريم بياين بچهها</td>\n",
       "      <td>[lets, go, com, on, boys]</td>\n",
       "      <td>[بريم, بياين, بچهها]</td>\n",
       "      <td>5</td>\n",
       "      <td>3</td>\n",
       "      <td>{go, boys, com, lets, on}</td>\n",
       "      <td>{بريم, بچهها, بياين}</td>\n",
       "      <td>[(بريم, N), (بياين, V), (بچهها, N)]</td>\n",
       "      <td>[بريم بياين VP] بچهها</td>\n",
       "      <td>[(lets, NNS), (go, VBP), (com, VB), (on, IN), ...</td>\n",
       "      <td>[(lets, NNS), [[('go', 'VBP')]], [[('com', 'VB...</td>\n",
       "      <td>Other</td>\n",
       "    </tr>\n",
       "  </tbody>\n",
       "</table>\n",
       "</div>"
      ],
      "text/plain": [
       "                                                   Eng  \\\n",
       "ID                                                       \n",
       "91                              by mr ben wade himself   \n",
       "92                        how did you know it was wade   \n",
       "93             its been him the last 21 times  marshal   \n",
       "94          i saw a mexican sharpshooter and an apache   \n",
       "95              did you see the hand of god whats that   \n",
       "96      his pistol why the hell didnt you do something   \n",
       "97   they had a lot of weapons  mr and they were sh...   \n",
       "98                          lets go  were wasting time   \n",
       "99                           where are you from anyway   \n",
       "100                               lets go com on  boys   \n",
       "\n",
       "                                                   Far  \\\n",
       "ID                                                       \n",
       "91                                   بوسيله خود بن ويد   \n",
       "92                     تو از کجا فهميدي که اون ويد بود   \n",
       "93                 اون خودش بود توي 21 بار قبلي مارشال   \n",
       "94   من يک تير انداز ماهر مکزيکي و يک آپاچي باهاش ديدم   \n",
       "95                     تو دست خدا را ديدي اون چيه ديگه   \n",
       "96                      هفت تيرش چرا تو هيچ کاري نکردي   \n",
       "97   اونا کلي اسلحه داشتن آقا و اونا گلوله شليک ميکردن   \n",
       "98                           بريم داريم وقت تلف ميکنيم   \n",
       "99                              درهرصورت تو کجايي هستي   \n",
       "100                                   بريم بياين بچهها   \n",
       "\n",
       "                                               Eng_Tok  \\\n",
       "ID                                                       \n",
       "91                        [by, mr, ben, wade, himself]   \n",
       "92                [how, did, you, know, it, was, wade]   \n",
       "93     [its, been, him, the, last, 21, times, marshal]   \n",
       "94   [i, saw, a, mexican, sharpshooter, and, an, ap...   \n",
       "95    [did, you, see, the, hand, of, god, whats, that]   \n",
       "96   [his, pistol, why, the, hell, didnt, you, do, ...   \n",
       "97   [they, had, a, lot, of, weapons, mr, and, they...   \n",
       "98                     [lets, go, were, wasting, time]   \n",
       "99                     [where, are, you, from, anyway]   \n",
       "100                          [lets, go, com, on, boys]   \n",
       "\n",
       "                                               Far_Tok  Eng_Len  Far_Len  \\\n",
       "ID                                                                         \n",
       "91                              [بوسيله, خود, بن, ويد]        5        4   \n",
       "92            [تو, از, کجا, فهميدي, که, اون, ويد, بود]        7        8   \n",
       "93        [اون, خودش, بود, توي, 21, بار, قبلي, مارشال]        8        8   \n",
       "94   [من, يک, تير, انداز, ماهر, مکزيکي, و, يک, آپاچ...        8       11   \n",
       "95            [تو, دست, خدا, را, ديدي, اون, چيه, ديگه]        9        8   \n",
       "96              [هفت, تيرش, چرا, تو, هيچ, کاري, نکردي]        9        7   \n",
       "97   [اونا, کلي, اسلحه, داشتن, آقا, و, اونا, گلوله,...       12       10   \n",
       "98                     [بريم, داريم, وقت, تلف, ميکنيم]        5        5   \n",
       "99                         [درهرصورت, تو, کجايي, هستي]        5        4   \n",
       "100                               [بريم, بياين, بچهها]        5        3   \n",
       "\n",
       "                                             Eng_Types  \\\n",
       "ID                                                       \n",
       "91                        {ben, by, himself, mr, wade}   \n",
       "92                {know, you, it, did, how, was, wade}   \n",
       "93     {its, marshal, the, times, been, him, last, 21}   \n",
       "94   {apache, a, sharpshooter, an, i, saw, and, mex...   \n",
       "95    {you, see, that, of, the, did, whats, hand, god}   \n",
       "96   {pistol, you, didnt, hell, the, something, why...   \n",
       "97   {a, shooting, and, of, mr, they, had, weapons,...   \n",
       "98                     {wasting, go, were, time, lets}   \n",
       "99                     {where, anyway, you, are, from}   \n",
       "100                          {go, boys, com, lets, on}   \n",
       "\n",
       "                                             Far_Types  \\\n",
       "ID                                                       \n",
       "91                              {بن, ويد, خود, بوسيله}   \n",
       "92            {فهميدي, کجا, بود, از, که, تو, ويد, اون}   \n",
       "93        {مارشال, قبلي, توي, بود, خودش, بار, اون, 21}   \n",
       "94   {يک, من, باهاش, ديدم, تير, مکزيکي, آپاچي, اندا...   \n",
       "95            {چيه, دست, را, ديدي, خدا, ديگه, تو, اون}   \n",
       "96              {تيرش, نکردي, هفت, چرا, کاري, تو, هيچ}   \n",
       "97   {اسلحه, آقا, شليک, اونا, ميکردن, داشتن, گلوله,...   \n",
       "98                     {وقت, تلف, بريم, ميکنيم, داريم}   \n",
       "99                         {تو, درهرصورت, کجايي, هستي}   \n",
       "100                               {بريم, بچهها, بياين}   \n",
       "\n",
       "                                               Far_POS  \\\n",
       "ID                                                       \n",
       "91      [(بوسيله, Ne), (خود, PRO), (بن, Ne), (ويد, N)]   \n",
       "92   [(تو, PRO), (از, P), (کجا, ADV), (فهميدي, V), ...   \n",
       "93   [(اون, PRO), (خودش, PRO), (بود, V), (توي, N), ...   \n",
       "94   [(من, PRO), (يک, NUM), (تير, Ne), (انداز, AJe)...   \n",
       "95   [(تو, PRO), (دست, Ne), (خدا, N), (را, POSTP), ...   \n",
       "96   [(هفت, NUM), (تيرش, N), (چرا, ADV), (تو, PRO),...   \n",
       "97   [(اونا, PRO), (کلي, CONJ), (اسلحه, N), (داشتن,...   \n",
       "98   [(بريم, N), (داريم, V), (وقت, Ne), (تلف, Ne), ...   \n",
       "99   [(درهرصورت, CONJ), (تو, PRO), (کجايي, V), (هست...   \n",
       "100                [(بريم, N), (بياين, V), (بچهها, N)]   \n",
       "\n",
       "                                            Far_Chunks  \\\n",
       "ID                                                       \n",
       "91                              [بوسيله خود بن ويد NP]   \n",
       "92   [تو NP] [از PP] [کجا NP] [فهميدي VP] که [اون و...   \n",
       "93   [اون NP] [خودش NP] [بود VP] [توي NP] [21 بار A...   \n",
       "94   [من NP] [يک تير انداز ماهر NP] [مکزيکي VP] و [...   \n",
       "95   [تو NP] [دست خدا NP] [را POSTP] [ديدي PP] [اون...   \n",
       "96   [هفت تيرش NP] [چرا ADVP] [تو NP] [هيچ کاري NP]...   \n",
       "97   [اونا NP] کلي [اسلحه داشتن آقا و اونا گلوله شل...   \n",
       "98            [بريم NP] [داريم VP] [وقت تلف ميکنيم NP]   \n",
       "99             [درهرصورت ADVP] [تو NP] [کجايي VP] هستي   \n",
       "100                              [بريم بياين VP] بچهها   \n",
       "\n",
       "                                               Eng_POS  \\\n",
       "ID                                                       \n",
       "91   [(by, IN), (mr, JJ), (ben, NN), (wade, VBD), (...   \n",
       "92   [(how, WRB), (did, VBD), (you, PRP), (know, VB...   \n",
       "93   [(its, PRP$), (been, VBN), (him, PRP), (the, D...   \n",
       "94   [(i, NN), (saw, VBD), (a, DT), (mexican, JJ), ...   \n",
       "95   [(did, VBD), (you, PRP), (see, VB), (the, DT),...   \n",
       "96   [(his, PRP$), (pistol, NN), (why, WRB), (the, ...   \n",
       "97   [(they, PRP), (had, VBD), (a, DT), (lot, NN), ...   \n",
       "98   [(lets, NNS), (go, VBP), (were, VBD), (wasting...   \n",
       "99   [(where, WRB), (are, VBP), (you, PRP), (from, ...   \n",
       "100  [(lets, NNS), (go, VBP), (com, VB), (on, IN), ...   \n",
       "\n",
       "                                            Eng_Chunks Word_Order  \n",
       "ID                                                                 \n",
       "91   [[[('by', 'IN')], [('mr', 'JJ'), ('ben', 'NN')...      Other  \n",
       "92   [(how, WRB), [[('did', 'VBD')]], (you, PRP), [...        SVO  \n",
       "93   [(its, PRP$), [[('been', 'VBN')]], (him, PRP),...        SVO  \n",
       "94   [[(i, NN)], [[('saw', 'VBD')], [('a', 'DT'), (...        SVO  \n",
       "95   [[[('did', 'VBD')]], (you, PRP), [[('see', 'VB...        SOV  \n",
       "96   [(his, PRP$), [(pistol, NN)], (why, WRB), [(th...        SVO  \n",
       "97   [(they, PRP), [[('had', 'VBD')], [('a', 'DT'),...        SOV  \n",
       "98   [(lets, NNS), [[('go', 'VBP')]], [[('were', 'V...        SVO  \n",
       "99   [(where, WRB), [[('are', 'VBP')]], (you, PRP),...      Other  \n",
       "100  [(lets, NNS), [[('go', 'VBP')]], [[('com', 'VB...      Other  "
      ]
     },
     "execution_count": 13,
     "metadata": {},
     "output_type": "execute_result"
    }
   ],
   "source": [
    "small_df.tail(10)"
   ]
  },
  {
   "cell_type": "markdown",
   "metadata": {},
   "source": [
    "What are the value counts of everything we've seen thus far?"
   ]
  },
  {
   "cell_type": "code",
   "execution_count": 14,
   "metadata": {},
   "outputs": [
    {
     "data": {
      "text/plain": [
       "Other    50\n",
       "SVO      33\n",
       "SOV      17\n",
       "Name: Word_Order, dtype: int64"
      ]
     },
     "execution_count": 14,
     "metadata": {},
     "output_type": "execute_result"
    }
   ],
   "source": [
    "small_df['Word_Order'].value_counts()"
   ]
  },
  {
   "cell_type": "markdown",
   "metadata": {},
   "source": [
    "Hmmm... these numbers seem a bit funky...! We got 38 SOV values when we searched through the small_df, but only 17 when we applied it to our DF -- however, our SVO value is the same! I wonder if the regexps are stepping on each other's toes? Let's reverse the rule and see what happens:"
   ]
  },
  {
   "cell_type": "code",
   "execution_count": 15,
   "metadata": {},
   "outputs": [],
   "source": [
    "def gen_word_order2(text):\n",
    "    if re.findall('(NP)[^VP]*(NP)+(VP)*[^NP]', text):\n",
    "        return 'SOV'\n",
    "    elif re.findall('(NP)[^NP]*VP[^VP]*(NP)+[^VP]*', text):\n",
    "        return 'SVO'\n",
    "    else:\n",
    "        return 'Other'"
   ]
  },
  {
   "cell_type": "code",
   "execution_count": 16,
   "metadata": {},
   "outputs": [
    {
     "name": "stderr",
     "output_type": "stream",
     "text": [
      "C:\\Users\\16starjo\\Documents\\Anaconda3\\lib\\site-packages\\ipykernel_launcher.py:1: SettingWithCopyWarning: \n",
      "A value is trying to be set on a copy of a slice from a DataFrame.\n",
      "Try using .loc[row_indexer,col_indexer] = value instead\n",
      "\n",
      "See the caveats in the documentation: http://pandas.pydata.org/pandas-docs/stable/indexing.html#indexing-view-versus-copy\n",
      "  \"\"\"Entry point for launching an IPython kernel.\n"
     ]
    }
   ],
   "source": [
    "small_df['Word_Order2'] = small_df['Far_Chunks'].apply(gen_word_order2)"
   ]
  },
  {
   "cell_type": "code",
   "execution_count": 17,
   "metadata": {},
   "outputs": [
    {
     "data": {
      "text/plain": [
       "Other    50\n",
       "SOV      38\n",
       "SVO      12\n",
       "Name: Word_Order2, dtype: int64"
      ]
     },
     "execution_count": 17,
     "metadata": {},
     "output_type": "execute_result"
    }
   ],
   "source": [
    "small_df['Word_Order2'].value_counts()"
   ]
  },
  {
   "cell_type": "markdown",
   "metadata": {},
   "source": [
    "Yes, the regular expressions most definitely _are_ treading on each other...! This time, all the SOV values were filled, and whatever crossover remained went to SVO! That needs to be fixed. Also, it is interesting to note that the regular expressions only apply to 50% of the data; we'll see how this scales as we work up to the full_df.\n",
    "\n",
    "How much crossover do we have?"
   ]
  },
  {
   "cell_type": "code",
   "execution_count": 18,
   "metadata": {},
   "outputs": [
    {
     "data": {
      "text/plain": [
       "21"
      ]
     },
     "execution_count": 18,
     "metadata": {},
     "output_type": "execute_result"
    }
   ],
   "source": [
    "crossover = []\n",
    "for x in SOV_test:\n",
    "    if x in SVO_test:\n",
    "        crossover.append(x)\n",
    "len(crossover)"
   ]
  },
  {
   "cell_type": "markdown",
   "metadata": {},
   "source": [
    "Not great...! We need to fix the regex. Still, let's take a look at the crossover:"
   ]
  },
  {
   "cell_type": "code",
   "execution_count": 19,
   "metadata": {},
   "outputs": [
    {
     "data": {
      "text/plain": [
       "['[اين آخرين علوفه NP] [اي NP] [بود VP] که [ما NP] [داشتيم VP]',\n",
       " '[تو NP] [به PP] [من NP] [گفتي VP] [قرضمونو NP] [به PP] [هلندر NP] [پرداخت کرديم ما NP] [پرداخت کرديم NP]',\n",
       " '[خب ADVP] [پس ADVP] [تو NP] [فکر ميکني ما NP] [چطوري VP] [علوفه خريديم NP] [سه ماه NP] [آب خرج دارو مارک NP]',\n",
       " '[من NP] [فقط ADVP] [يک PP] [انتخاب بين NP] [خانوادم VP] و [پرداخت قرض NP] [اونا NP] [داشتم VP]',\n",
       " '[ما NP] [قرار NP] [بود VP] [تصميماتو NP] [با PP] [هم NP] [بگيريم VP]',\n",
       " '[مشکل NP] [اينجاست VP] که [دکترها NP] [در PP] [درمانگاه کار زيادي NP] [براي VP] [پاي PP] [من NP] [نکردن مستمري NP] [هم ADVP] [الان ADVP] [به PP] [پوند NP] [پرداخت ميشه NP]',\n",
       " '[تو NP] [ميخواي NP] [به PP] [مارشال NP] [بگي VP] که [اون آدما چيکار کردن NP]',\n",
       " '[مارک اول اينکه من NP] [ميخوام شما NP] [پسرهارو NP] [با PP] [خودم NP] [ببرم VP] و [ما NP] [گله NP] [را POSTP] [جمع NP] [خواهيم کرد VP] [بعد ADVP] [من NP] [به PP] [شهر ميرم NP]',\n",
       " '[من NP] [بهش NP] [ميگم VP] [پول يک اسطبل NP] [جديدو بده VP]',\n",
       " '[شايد ما NP] [بايد VP] [بهش PP] [تير NP] [اندازي VP] کنيم [همونجور NP] که [ويل ميگه NP]',\n",
       " '[تو NP] [بايد VP] [ميگذاشتي من NP] [علوفه هارو NP] [نگه دارم VP]',\n",
       " '[يه NP] [روزي VP] که [مثل PP] [من NP] [شدي VP] [تو NP] [اونوقت ميفهمي NP]',\n",
       " '[ميخوام NP] که [پول هارو NP] [بذارين زمين NP] [بريد VP] [عقب بهشون ADJP] [بگو VP] [برن NP] [عقب ADVP] [يا اين مرد ميميره NP]',\n",
       " '[الان ADVP] [ميدونم VP] که [چارلي NP] [بهت PP] [چي گفته NP] [براي VP] اينکه [ما NP] چيزي [تو NP] [اين گروه NP] [نداريم VP] [بجز PP] [چندتا قانون NP]',\n",
       " '[يه همچين اتفاقي NP] [ميوفته VP] وقتي که [تو NP] هممونو [تو NP] [خطر ميندازي VP]',\n",
       " '[اون گاوها NP] [واسه PP] [گله من NP] [هستن VP] [ميخوام NP] که [برگردن NP]',\n",
       " '[من NP] [گاوهاتو NP] [نميخوام VP] ولي [اين اسبها لازمم ميسه NP]',\n",
       " '[من NP] [فکر کنم VP] [يک PP] [دليجان NP] که [به PP] [سمت اينجا NP] [ميومد VP] [تو NP] [يک تنگه باريک 10 مايل NP] [عقب تر NP] [گير کرده VP]',\n",
       " '[اون NP] [خودش NP] [بود VP] [توي NP] [21 بار ADVP] [قبلي مارشال NP]',\n",
       " '[من NP] [يک تير انداز ماهر NP] [مکزيکي VP] و [يک NP] [آپاچي VP] باهاش [ديدم NP]',\n",
       " '[هفت تيرش NP] [چرا ADVP] [تو NP] [هيچ کاري NP] [نکردي VP]']"
      ]
     },
     "execution_count": 19,
     "metadata": {},
     "output_type": "execute_result"
    }
   ],
   "source": [
    "crossover"
   ]
  },
  {
   "cell_type": "markdown",
   "metadata": {},
   "source": [
    "So, many of these files have complex structures that include multiple NPs and VPs. Unforuntately, the strings do not have punctuation, so I can't split the sentences up on that. Admittedly, this is kind of giving me a headache.\n",
    "\n",
    "But still, time to fix things!! Thanks to some help from Professor Han, I have tried something else that works better. Here are some sample strings to test on:"
   ]
  },
  {
   "cell_type": "code",
   "execution_count": 20,
   "metadata": {},
   "outputs": [],
   "source": [
    "s1 = '[;asldkfjlsdk NP] [sakdjfijk VP]'\n",
    "s2 = '[alskdjflksdj NP] [:DLkjasdlkfj VP] [alskdfj NP]'\n",
    "s3 = '[alskdjflksdj NP] [:DLkjasdlkfj NP] [alskdfj VP]'\n",
    "s4 = '[alskdjflksdj NP] [:DLkjasdlkfj NP] [alskdfj VP] [alskdjf NP]'\n",
    "s5 = '[alskdjflksdj NP] [:DLkjasdlkfj AP] [alskdfj VP] [askdfj NP]'\n",
    "s6 = '[alskdjflksdj NP] [:DLkjasdlkfj AP] [alskdfj NP] [askdfj VP]'"
   ]
  },
  {
   "cell_type": "markdown",
   "metadata": {},
   "source": [
    "First we'll build structures that DO represent NPs/VPs:"
   ]
  },
  {
   "cell_type": "code",
   "execution_count": 21,
   "metadata": {},
   "outputs": [],
   "source": [
    "np = r'\\[[^\\]]+ NP\\]'\n",
    "vp = r'\\[[^\\]]+ VP\\]'"
   ]
  },
  {
   "cell_type": "markdown",
   "metadata": {},
   "source": [
    "And then structures that DO NOT represent NPs/VPs:"
   ]
  },
  {
   "cell_type": "code",
   "execution_count": 22,
   "metadata": {},
   "outputs": [],
   "source": [
    "np_not = r'\\[[^\\]]+ [^N]P\\]'\n",
    "vp_not = r'\\[[^\\]]+ [^V]P\\]'"
   ]
  },
  {
   "cell_type": "markdown",
   "metadata": {},
   "source": [
    "Now to build the SVO and SOV word order patterns:"
   ]
  },
  {
   "cell_type": "code",
   "execution_count": 23,
   "metadata": {},
   "outputs": [],
   "source": [
    "# Matching for SVO\n",
    "svo_pat = re.compile( r\"\"+ np +\" (\"+ np_not +\" )*\"+ vp +\" \"+ np)"
   ]
  },
  {
   "cell_type": "code",
   "execution_count": 24,
   "metadata": {},
   "outputs": [
    {
     "data": {
      "text/plain": [
       "<re.Match object; span=(0, 60), match='[alskdjflksdj NP] [:DLkjasdlkfj AP] [alskdfj VP] >"
      ]
     },
     "execution_count": 24,
     "metadata": {},
     "output_type": "execute_result"
    }
   ],
   "source": [
    "# Testing match\n",
    "svo_pat.match(s5)"
   ]
  },
  {
   "cell_type": "code",
   "execution_count": 25,
   "metadata": {},
   "outputs": [],
   "source": [
    "# Matching for SOV\n",
    "sov_pat = re.compile( r\"\"+ np +\" (\"+ vp_not +\" )*\"+ np + \" \" + vp)"
   ]
  },
  {
   "cell_type": "code",
   "execution_count": 26,
   "metadata": {},
   "outputs": [
    {
     "data": {
      "text/plain": [
       "<re.Match object; span=(0, 60), match='[alskdjflksdj NP] [:DLkjasdlkfj AP] [alskdfj NP] >"
      ]
     },
     "execution_count": 26,
     "metadata": {},
     "output_type": "execute_result"
    }
   ],
   "source": [
    "# Testing match\n",
    "sov_pat.match(s6)"
   ]
  },
  {
   "cell_type": "markdown",
   "metadata": {},
   "source": [
    "Well, let's see what changes when we use these two functions instead:"
   ]
  },
  {
   "cell_type": "code",
   "execution_count": 27,
   "metadata": {},
   "outputs": [],
   "source": [
    "def gen_word_order3(text):\n",
    "    if svo_pat.match(text):\n",
    "        return 'SVO'\n",
    "    elif sov_pat.match(text):\n",
    "        return 'SOV'\n",
    "    else:\n",
    "        return 'Other'"
   ]
  },
  {
   "cell_type": "code",
   "execution_count": 28,
   "metadata": {},
   "outputs": [
    {
     "name": "stderr",
     "output_type": "stream",
     "text": [
      "C:\\Users\\16starjo\\Documents\\Anaconda3\\lib\\site-packages\\ipykernel_launcher.py:1: SettingWithCopyWarning: \n",
      "A value is trying to be set on a copy of a slice from a DataFrame.\n",
      "Try using .loc[row_indexer,col_indexer] = value instead\n",
      "\n",
      "See the caveats in the documentation: http://pandas.pydata.org/pandas-docs/stable/indexing.html#indexing-view-versus-copy\n",
      "  \"\"\"Entry point for launching an IPython kernel.\n"
     ]
    }
   ],
   "source": [
    "small_df['Word_Order3'] = small_df['Far_Chunks'].apply(gen_word_order3)"
   ]
  },
  {
   "cell_type": "code",
   "execution_count": 29,
   "metadata": {},
   "outputs": [
    {
     "data": {
      "text/plain": [
       "Other    75\n",
       "SOV      21\n",
       "SVO       4\n",
       "Name: Word_Order3, dtype: int64"
      ]
     },
     "execution_count": 29,
     "metadata": {},
     "output_type": "execute_result"
    }
   ],
   "source": [
    "small_df['Word_Order3'].value_counts()"
   ]
  },
  {
   "cell_type": "markdown",
   "metadata": {},
   "source": [
    "And if I flip the function? Last time, this was a good way of checking whether or not the ordering of the if/elif/else statements was affecting the numbers:"
   ]
  },
  {
   "cell_type": "code",
   "execution_count": 30,
   "metadata": {},
   "outputs": [],
   "source": [
    "def gen_word_order4(text):\n",
    "    if sov_pat.match(text):\n",
    "        return 'SOV'\n",
    "    elif svo_pat.match(text):\n",
    "        return 'SVO'\n",
    "    else:\n",
    "        return 'Other'"
   ]
  },
  {
   "cell_type": "code",
   "execution_count": 31,
   "metadata": {},
   "outputs": [
    {
     "name": "stderr",
     "output_type": "stream",
     "text": [
      "C:\\Users\\16starjo\\Documents\\Anaconda3\\lib\\site-packages\\ipykernel_launcher.py:1: SettingWithCopyWarning: \n",
      "A value is trying to be set on a copy of a slice from a DataFrame.\n",
      "Try using .loc[row_indexer,col_indexer] = value instead\n",
      "\n",
      "See the caveats in the documentation: http://pandas.pydata.org/pandas-docs/stable/indexing.html#indexing-view-versus-copy\n",
      "  \"\"\"Entry point for launching an IPython kernel.\n"
     ]
    }
   ],
   "source": [
    "small_df['Word_Order4'] = small_df['Far_Chunks'].apply(gen_word_order4)"
   ]
  },
  {
   "cell_type": "code",
   "execution_count": 32,
   "metadata": {},
   "outputs": [
    {
     "data": {
      "text/plain": [
       "Other    75\n",
       "SOV      21\n",
       "SVO       4\n",
       "Name: Word_Order4, dtype: int64"
      ]
     },
     "execution_count": 32,
     "metadata": {},
     "output_type": "execute_result"
    }
   ],
   "source": [
    "small_df['Word_Order4'].value_counts()"
   ]
  },
  {
   "cell_type": "markdown",
   "metadata": {},
   "source": [
    "Well, at least this one doesn't have any cross-over! And, as expected, there are more SOV structures.\n",
    "\n",
    "Unfortunately, this function ignores 75% of the small_df. That's a _lot_ of data to be losing. We'll need to see how this scales up when applied to the full DF.\n",
    "\n",
    "A quick refresher on what our full DF looks like:"
   ]
  },
  {
   "cell_type": "code",
   "execution_count": 33,
   "metadata": {},
   "outputs": [
    {
     "data": {
      "text/html": [
       "<div>\n",
       "<style scoped>\n",
       "    .dataframe tbody tr th:only-of-type {\n",
       "        vertical-align: middle;\n",
       "    }\n",
       "\n",
       "    .dataframe tbody tr th {\n",
       "        vertical-align: top;\n",
       "    }\n",
       "\n",
       "    .dataframe thead th {\n",
       "        text-align: right;\n",
       "    }\n",
       "</style>\n",
       "<table border=\"1\" class=\"dataframe\">\n",
       "  <thead>\n",
       "    <tr style=\"text-align: right;\">\n",
       "      <th></th>\n",
       "      <th>Eng</th>\n",
       "      <th>Far</th>\n",
       "      <th>Eng_Tok</th>\n",
       "      <th>Far_Tok</th>\n",
       "      <th>Eng_Len</th>\n",
       "      <th>Far_Len</th>\n",
       "      <th>Eng_Types</th>\n",
       "      <th>Far_Types</th>\n",
       "      <th>Far_POS</th>\n",
       "      <th>Far_Chunks</th>\n",
       "      <th>Eng_POS</th>\n",
       "      <th>Eng_Chunks</th>\n",
       "    </tr>\n",
       "    <tr>\n",
       "      <th>ID</th>\n",
       "      <th></th>\n",
       "      <th></th>\n",
       "      <th></th>\n",
       "      <th></th>\n",
       "      <th></th>\n",
       "      <th></th>\n",
       "      <th></th>\n",
       "      <th></th>\n",
       "      <th></th>\n",
       "      <th></th>\n",
       "      <th></th>\n",
       "      <th></th>\n",
       "    </tr>\n",
       "  </thead>\n",
       "  <tbody>\n",
       "    <tr>\n",
       "      <th>1</th>\n",
       "      <td>raspy breathing</td>\n",
       "      <td>صداي خر خر</td>\n",
       "      <td>[raspy, breathing]</td>\n",
       "      <td>[صداي, خر, خر]</td>\n",
       "      <td>2</td>\n",
       "      <td>3</td>\n",
       "      <td>{raspy, breathing}</td>\n",
       "      <td>{خر, صداي}</td>\n",
       "      <td>[(صداي, NUM), (خر, Ne), (خر, N)]</td>\n",
       "      <td>[صداي خر خر NP]</td>\n",
       "      <td>[(raspy, NN), (breathing, NN)]</td>\n",
       "      <td>[[(raspy, NN), (breathing, NN)]]</td>\n",
       "    </tr>\n",
       "    <tr>\n",
       "      <th>2</th>\n",
       "      <td>dad</td>\n",
       "      <td>پدر</td>\n",
       "      <td>[dad]</td>\n",
       "      <td>[پدر]</td>\n",
       "      <td>1</td>\n",
       "      <td>1</td>\n",
       "      <td>{dad}</td>\n",
       "      <td>{پدر}</td>\n",
       "      <td>[(پدر, N)]</td>\n",
       "      <td>[پدر NP]</td>\n",
       "      <td>[(dad, NN)]</td>\n",
       "      <td>[[(dad, NN)]]</td>\n",
       "    </tr>\n",
       "    <tr>\n",
       "      <th>3</th>\n",
       "      <td>maybe its the wind</td>\n",
       "      <td>شايد صداي باد باشه</td>\n",
       "      <td>[maybe, its, the, wind]</td>\n",
       "      <td>[شايد, صداي, باد, باشه]</td>\n",
       "      <td>4</td>\n",
       "      <td>4</td>\n",
       "      <td>{its, the, wind, maybe}</td>\n",
       "      <td>{باشه, باد, صداي, شايد}</td>\n",
       "      <td>[(شايد, Ne), (صداي, AJ), (باد, V), (باشه, V)]</td>\n",
       "      <td>[شايد صداي NP] [باد VP] [باشه VP]</td>\n",
       "      <td>[(maybe, RB), (its, PRP$), (the, DT), (wind, NN)]</td>\n",
       "      <td>[(maybe, RB), (its, PRP$), [(the, DT), (wind, ...</td>\n",
       "    </tr>\n",
       "    <tr>\n",
       "      <th>4</th>\n",
       "      <td>no</td>\n",
       "      <td>نه</td>\n",
       "      <td>[no]</td>\n",
       "      <td>[نه]</td>\n",
       "      <td>1</td>\n",
       "      <td>1</td>\n",
       "      <td>{no}</td>\n",
       "      <td>{نه}</td>\n",
       "      <td>[(نه, ADV)]</td>\n",
       "      <td>نه</td>\n",
       "      <td>[(no, DT)]</td>\n",
       "      <td>[[(no, DT)]]</td>\n",
       "    </tr>\n",
       "    <tr>\n",
       "      <th>5</th>\n",
       "      <td>stop please stop</td>\n",
       "      <td>دست نگه داريد خواهش ميکنم دست نگه داريد</td>\n",
       "      <td>[stop, please, stop]</td>\n",
       "      <td>[دست, نگه, داريد, خواهش, ميکنم, دست, نگه, داريد]</td>\n",
       "      <td>3</td>\n",
       "      <td>8</td>\n",
       "      <td>{stop, please}</td>\n",
       "      <td>{خواهش, ميکنم, دست, داريد, نگه}</td>\n",
       "      <td>[(دست, N), (نگه, N), (داريد, V), (خواهش, Ne), ...</td>\n",
       "      <td>[دست NP] [نگه داريد VP] [خواهش ميکنم دست NP] [...</td>\n",
       "      <td>[(stop, JJ), (please, NN), (stop, VB)]</td>\n",
       "      <td>[[(stop, JJ), (please, NN)], [[('stop', 'VB')]]]</td>\n",
       "    </tr>\n",
       "  </tbody>\n",
       "</table>\n",
       "</div>"
      ],
      "text/plain": [
       "                   Eng                                      Far  \\\n",
       "ID                                                                \n",
       "1      raspy breathing                               صداي خر خر   \n",
       "2                  dad                                      پدر   \n",
       "3   maybe its the wind                       شايد صداي باد باشه   \n",
       "4                   no                                       نه   \n",
       "5     stop please stop  دست نگه داريد خواهش ميکنم دست نگه داريد   \n",
       "\n",
       "                    Eng_Tok                                           Far_Tok  \\\n",
       "ID                                                                              \n",
       "1        [raspy, breathing]                                    [صداي, خر, خر]   \n",
       "2                     [dad]                                             [پدر]   \n",
       "3   [maybe, its, the, wind]                           [شايد, صداي, باد, باشه]   \n",
       "4                      [no]                                              [نه]   \n",
       "5      [stop, please, stop]  [دست, نگه, داريد, خواهش, ميکنم, دست, نگه, داريد]   \n",
       "\n",
       "    Eng_Len  Far_Len                Eng_Types  \\\n",
       "ID                                              \n",
       "1         2        3       {raspy, breathing}   \n",
       "2         1        1                    {dad}   \n",
       "3         4        4  {its, the, wind, maybe}   \n",
       "4         1        1                     {no}   \n",
       "5         3        8           {stop, please}   \n",
       "\n",
       "                          Far_Types  \\\n",
       "ID                                    \n",
       "1                        {خر, صداي}   \n",
       "2                             {پدر}   \n",
       "3           {باشه, باد, صداي, شايد}   \n",
       "4                              {نه}   \n",
       "5   {خواهش, ميکنم, دست, داريد, نگه}   \n",
       "\n",
       "                                              Far_POS  \\\n",
       "ID                                                      \n",
       "1                    [(صداي, NUM), (خر, Ne), (خر, N)]   \n",
       "2                                          [(پدر, N)]   \n",
       "3       [(شايد, Ne), (صداي, AJ), (باد, V), (باشه, V)]   \n",
       "4                                         [(نه, ADV)]   \n",
       "5   [(دست, N), (نگه, N), (داريد, V), (خواهش, Ne), ...   \n",
       "\n",
       "                                           Far_Chunks  \\\n",
       "ID                                                      \n",
       "1                                     [صداي خر خر NP]   \n",
       "2                                            [پدر NP]   \n",
       "3                   [شايد صداي NP] [باد VP] [باشه VP]   \n",
       "4                                                  نه   \n",
       "5   [دست NP] [نگه داريد VP] [خواهش ميکنم دست NP] [...   \n",
       "\n",
       "                                              Eng_POS  \\\n",
       "ID                                                      \n",
       "1                      [(raspy, NN), (breathing, NN)]   \n",
       "2                                         [(dad, NN)]   \n",
       "3   [(maybe, RB), (its, PRP$), (the, DT), (wind, NN)]   \n",
       "4                                          [(no, DT)]   \n",
       "5              [(stop, JJ), (please, NN), (stop, VB)]   \n",
       "\n",
       "                                           Eng_Chunks  \n",
       "ID                                                     \n",
       "1                    [[(raspy, NN), (breathing, NN)]]  \n",
       "2                                       [[(dad, NN)]]  \n",
       "3   [(maybe, RB), (its, PRP$), [(the, DT), (wind, ...  \n",
       "4                                        [[(no, DT)]]  \n",
       "5    [[(stop, JJ), (please, NN)], [[('stop', 'VB')]]]  "
      ]
     },
     "execution_count": 33,
     "metadata": {},
     "output_type": "execute_result"
    }
   ],
   "source": [
    "full_df.head()"
   ]
  },
  {
   "cell_type": "markdown",
   "metadata": {},
   "source": [
    "And applying our word_order function to it:"
   ]
  },
  {
   "cell_type": "code",
   "execution_count": 34,
   "metadata": {},
   "outputs": [],
   "source": [
    "def gen_word_order_final(text):\n",
    "    if sov_pat.match(text):\n",
    "        return 'SOV'\n",
    "    elif svo_pat.match(text):\n",
    "        return 'SVO'\n",
    "    else:\n",
    "        return 'Other'"
   ]
  },
  {
   "cell_type": "code",
   "execution_count": 35,
   "metadata": {},
   "outputs": [],
   "source": [
    "full_df['Word_Order'] = full_df['Far_Chunks'].apply(gen_word_order_final)"
   ]
  },
  {
   "cell_type": "code",
   "execution_count": 36,
   "metadata": {},
   "outputs": [
    {
     "name": "stdout",
     "output_type": "stream",
     "text": [
      "Other    535371\n",
      "SOV       52756\n",
      "SVO       23959\n",
      "Name: Word_Order, dtype: int64\n",
      "\n",
      "612086\n"
     ]
    }
   ],
   "source": [
    "print(full_df['Word_Order'].value_counts())\n",
    "print()\n",
    "print(len(full_df))"
   ]
  },
  {
   "cell_type": "markdown",
   "metadata": {},
   "source": [
    "Well, this is _not_ ideal whatsoever. Over 87% of the data is labeled as \"other\". There are a few explanations for this:\n",
    "- Chunker mischunked the data, therefore giving incorrect structures\n",
    "- Regex are too restrictive in their selection (need editing)\n",
    "- Various factors do not take into account the pro-drop nature of Persian, so they don't recognize OV structures to be SOV (create a separate OV category?)\n",
    "\n",
    "Due to time constraints, I don't think I'll be able to fix this right now, but hopefully by the time I present on Tuesday I'll have a better grasp on my data...! For now, let's separate the structures that are properly labeled, pickle them out, then perform data analysis in another notebook.\n",
    "\n",
    "First, I'll create a list of Boolean values that will distinguish between the \"Other\" and ordered cases."
   ]
  },
  {
   "cell_type": "code",
   "execution_count": 37,
   "metadata": {},
   "outputs": [],
   "source": [
    "booleans = []\n",
    "for order in full_df['Word_Order']:\n",
    "    if order == 'Other':\n",
    "        booleans.append(False)\n",
    "    else:\n",
    "        booleans.append(True)"
   ]
  },
  {
   "cell_type": "code",
   "execution_count": 38,
   "metadata": {},
   "outputs": [
    {
     "data": {
      "text/plain": [
       "612086"
      ]
     },
     "execution_count": 38,
     "metadata": {},
     "output_type": "execute_result"
    }
   ],
   "source": [
    "# Checking the length\n",
    "len(booleans)"
   ]
  },
  {
   "cell_type": "markdown",
   "metadata": {},
   "source": [
    "Now we'll turn this list into a Series so that way we can use it to organize the DF:"
   ]
  },
  {
   "cell_type": "code",
   "execution_count": 39,
   "metadata": {},
   "outputs": [],
   "source": [
    "is_ordered = pd.Series(booleans)"
   ]
  },
  {
   "cell_type": "markdown",
   "metadata": {},
   "source": [
    "Wait! The index for full_df starts at 1, not 0. Let's reset that:"
   ]
  },
  {
   "cell_type": "code",
   "execution_count": 40,
   "metadata": {},
   "outputs": [],
   "source": [
    "full_df.reset_index(inplace = True)"
   ]
  },
  {
   "cell_type": "markdown",
   "metadata": {},
   "source": [
    "Now to create the \"ordered only\" DF:"
   ]
  },
  {
   "cell_type": "code",
   "execution_count": 41,
   "metadata": {},
   "outputs": [],
   "source": [
    "ordered_only_df = full_df[is_ordered]"
   ]
  },
  {
   "cell_type": "code",
   "execution_count": 42,
   "metadata": {},
   "outputs": [
    {
     "data": {
      "text/html": [
       "<div>\n",
       "<style scoped>\n",
       "    .dataframe tbody tr th:only-of-type {\n",
       "        vertical-align: middle;\n",
       "    }\n",
       "\n",
       "    .dataframe tbody tr th {\n",
       "        vertical-align: top;\n",
       "    }\n",
       "\n",
       "    .dataframe thead th {\n",
       "        text-align: right;\n",
       "    }\n",
       "</style>\n",
       "<table border=\"1\" class=\"dataframe\">\n",
       "  <thead>\n",
       "    <tr style=\"text-align: right;\">\n",
       "      <th></th>\n",
       "      <th>ID</th>\n",
       "      <th>Eng</th>\n",
       "      <th>Far</th>\n",
       "      <th>Eng_Tok</th>\n",
       "      <th>Far_Tok</th>\n",
       "      <th>Eng_Len</th>\n",
       "      <th>Far_Len</th>\n",
       "      <th>Eng_Types</th>\n",
       "      <th>Far_Types</th>\n",
       "      <th>Far_POS</th>\n",
       "      <th>Far_Chunks</th>\n",
       "      <th>Eng_POS</th>\n",
       "      <th>Eng_Chunks</th>\n",
       "      <th>Word_Order</th>\n",
       "    </tr>\n",
       "  </thead>\n",
       "  <tbody>\n",
       "    <tr>\n",
       "      <th>4</th>\n",
       "      <td>5</td>\n",
       "      <td>stop please stop</td>\n",
       "      <td>دست نگه داريد خواهش ميکنم دست نگه داريد</td>\n",
       "      <td>[stop, please, stop]</td>\n",
       "      <td>[دست, نگه, داريد, خواهش, ميکنم, دست, نگه, داريد]</td>\n",
       "      <td>3</td>\n",
       "      <td>8</td>\n",
       "      <td>{stop, please}</td>\n",
       "      <td>{خواهش, ميکنم, دست, داريد, نگه}</td>\n",
       "      <td>[(دست, N), (نگه, N), (داريد, V), (خواهش, Ne), ...</td>\n",
       "      <td>[دست NP] [نگه داريد VP] [خواهش ميکنم دست NP] [...</td>\n",
       "      <td>[(stop, JJ), (please, NN), (stop, VB)]</td>\n",
       "      <td>[[(stop, JJ), (please, NN)], [[('stop', 'VB')]]]</td>\n",
       "      <td>SVO</td>\n",
       "    </tr>\n",
       "    <tr>\n",
       "      <th>8</th>\n",
       "      <td>9</td>\n",
       "      <td>god damn it put that down</td>\n",
       "      <td>لعنت به تو اونو بذار زمين</td>\n",
       "      <td>[god, damn, it, put, that, down]</td>\n",
       "      <td>[لعنت, به, تو, اونو, بذار, زمين]</td>\n",
       "      <td>6</td>\n",
       "      <td>6</td>\n",
       "      <td>{god, that, it, put, down, damn}</td>\n",
       "      <td>{لعنت, به, زمين, اونو, بذار, تو}</td>\n",
       "      <td>[(لعنت, N), (به, P), (تو, PRO), (اونو, PRO), (...</td>\n",
       "      <td>[لعنت NP] [به PP] [تو NP] [اونو NP] [بذار VP] ...</td>\n",
       "      <td>[(god, NN), (damn, VBZ), (it, PRP), (put, VBD)...</td>\n",
       "      <td>[[(god, NN)], [[('damn', 'VBZ')]], (it, PRP), ...</td>\n",
       "      <td>SOV</td>\n",
       "    </tr>\n",
       "    <tr>\n",
       "      <th>10</th>\n",
       "      <td>11</td>\n",
       "      <td>its the last feed weve got</td>\n",
       "      <td>اين آخرين علوفه اي بود که ما داشتيم</td>\n",
       "      <td>[its, the, last, feed, weve, got]</td>\n",
       "      <td>[اين, آخرين, علوفه, اي, بود, که, ما, داشتيم]</td>\n",
       "      <td>6</td>\n",
       "      <td>8</td>\n",
       "      <td>{its, the, feed, last, weve, got}</td>\n",
       "      <td>{ما, اي, علوفه, داشتيم, بود, آخرين, که, اين}</td>\n",
       "      <td>[(اين, Ne), (آخرين, NUM), (علوفه, N), (اي, N),...</td>\n",
       "      <td>[اين آخرين علوفه NP] [اي NP] [بود VP] که [ما N...</td>\n",
       "      <td>[(its, PRP$), (the, DT), (last, JJ), (feed, NN...</td>\n",
       "      <td>[(its, PRP$), [(the, DT), (last, JJ), (feed, N...</td>\n",
       "      <td>SOV</td>\n",
       "    </tr>\n",
       "    <tr>\n",
       "      <th>14</th>\n",
       "      <td>15</td>\n",
       "      <td>you lied to me  dan</td>\n",
       "      <td>تو به من دروغ گفتي دن</td>\n",
       "      <td>[you, lied, to, me, dan]</td>\n",
       "      <td>[تو, به, من, دروغ, گفتي, دن]</td>\n",
       "      <td>5</td>\n",
       "      <td>6</td>\n",
       "      <td>{you, lied, me, to, dan}</td>\n",
       "      <td>{دن, من, گفتي, به, دروغ, تو}</td>\n",
       "      <td>[(تو, PRO), (به, P), (من, PRO), (دروغ, AJ), (گ...</td>\n",
       "      <td>[تو NP] [به PP] [من NP] [دروغ NP] [گفتي VP] دن</td>\n",
       "      <td>[(you, PRP), (lied, VBD), (to, TO), (me, PRP),...</td>\n",
       "      <td>[(you, PRP), [[('lied', 'VBD')]], (to, TO), (m...</td>\n",
       "      <td>SOV</td>\n",
       "    </tr>\n",
       "    <tr>\n",
       "      <th>15</th>\n",
       "      <td>16</td>\n",
       "      <td>you told me we made payments to hollander we did</td>\n",
       "      <td>تو به من گفتي قرضمونو به هلندر پرداخت کرديم ما...</td>\n",
       "      <td>[you, told, me, we, made, payments, to, hollan...</td>\n",
       "      <td>[تو, به, من, گفتي, قرضمونو, به, هلندر, پرداخت,...</td>\n",
       "      <td>10</td>\n",
       "      <td>12</td>\n",
       "      <td>{we, you, told, hollander, payments, did, me, ...</td>\n",
       "      <td>{ما, پرداخت, کرديم, من, گفتي, به, هلندر, تو, ق...</td>\n",
       "      <td>[(تو, PRO), (به, P), (من, PRO), (گفتي, V), (قر...</td>\n",
       "      <td>[تو NP] [به PP] [من NP] [گفتي VP] [قرضمونو NP]...</td>\n",
       "      <td>[(you, PRP), (told, VBD), (me, PRP), (we, PRP)...</td>\n",
       "      <td>[(you, PRP), [[('told', 'VBD')]], (me, PRP), (...</td>\n",
       "      <td>SOV</td>\n",
       "    </tr>\n",
       "  </tbody>\n",
       "</table>\n",
       "</div>"
      ],
      "text/plain": [
       "    ID                                               Eng  \\\n",
       "4    5                                  stop please stop   \n",
       "8    9                         god damn it put that down   \n",
       "10  11                        its the last feed weve got   \n",
       "14  15                               you lied to me  dan   \n",
       "15  16  you told me we made payments to hollander we did   \n",
       "\n",
       "                                                  Far  \\\n",
       "4             دست نگه داريد خواهش ميکنم دست نگه داريد   \n",
       "8                           لعنت به تو اونو بذار زمين   \n",
       "10                اين آخرين علوفه اي بود که ما داشتيم   \n",
       "14                              تو به من دروغ گفتي دن   \n",
       "15  تو به من گفتي قرضمونو به هلندر پرداخت کرديم ما...   \n",
       "\n",
       "                                              Eng_Tok  \\\n",
       "4                                [stop, please, stop]   \n",
       "8                    [god, damn, it, put, that, down]   \n",
       "10                  [its, the, last, feed, weve, got]   \n",
       "14                           [you, lied, to, me, dan]   \n",
       "15  [you, told, me, we, made, payments, to, hollan...   \n",
       "\n",
       "                                              Far_Tok  Eng_Len  Far_Len  \\\n",
       "4    [دست, نگه, داريد, خواهش, ميکنم, دست, نگه, داريد]        3        8   \n",
       "8                    [لعنت, به, تو, اونو, بذار, زمين]        6        6   \n",
       "10       [اين, آخرين, علوفه, اي, بود, که, ما, داشتيم]        6        8   \n",
       "14                       [تو, به, من, دروغ, گفتي, دن]        5        6   \n",
       "15  [تو, به, من, گفتي, قرضمونو, به, هلندر, پرداخت,...       10       12   \n",
       "\n",
       "                                            Eng_Types  \\\n",
       "4                                      {stop, please}   \n",
       "8                    {god, that, it, put, down, damn}   \n",
       "10                  {its, the, feed, last, weve, got}   \n",
       "14                           {you, lied, me, to, dan}   \n",
       "15  {we, you, told, hollander, payments, did, me, ...   \n",
       "\n",
       "                                            Far_Types  \\\n",
       "4                     {خواهش, ميکنم, دست, داريد, نگه}   \n",
       "8                    {لعنت, به, زمين, اونو, بذار, تو}   \n",
       "10       {ما, اي, علوفه, داشتيم, بود, آخرين, که, اين}   \n",
       "14                       {دن, من, گفتي, به, دروغ, تو}   \n",
       "15  {ما, پرداخت, کرديم, من, گفتي, به, هلندر, تو, ق...   \n",
       "\n",
       "                                              Far_POS  \\\n",
       "4   [(دست, N), (نگه, N), (داريد, V), (خواهش, Ne), ...   \n",
       "8   [(لعنت, N), (به, P), (تو, PRO), (اونو, PRO), (...   \n",
       "10  [(اين, Ne), (آخرين, NUM), (علوفه, N), (اي, N),...   \n",
       "14  [(تو, PRO), (به, P), (من, PRO), (دروغ, AJ), (گ...   \n",
       "15  [(تو, PRO), (به, P), (من, PRO), (گفتي, V), (قر...   \n",
       "\n",
       "                                           Far_Chunks  \\\n",
       "4   [دست NP] [نگه داريد VP] [خواهش ميکنم دست NP] [...   \n",
       "8   [لعنت NP] [به PP] [تو NP] [اونو NP] [بذار VP] ...   \n",
       "10  [اين آخرين علوفه NP] [اي NP] [بود VP] که [ما N...   \n",
       "14     [تو NP] [به PP] [من NP] [دروغ NP] [گفتي VP] دن   \n",
       "15  [تو NP] [به PP] [من NP] [گفتي VP] [قرضمونو NP]...   \n",
       "\n",
       "                                              Eng_POS  \\\n",
       "4              [(stop, JJ), (please, NN), (stop, VB)]   \n",
       "8   [(god, NN), (damn, VBZ), (it, PRP), (put, VBD)...   \n",
       "10  [(its, PRP$), (the, DT), (last, JJ), (feed, NN...   \n",
       "14  [(you, PRP), (lied, VBD), (to, TO), (me, PRP),...   \n",
       "15  [(you, PRP), (told, VBD), (me, PRP), (we, PRP)...   \n",
       "\n",
       "                                           Eng_Chunks Word_Order  \n",
       "4    [[(stop, JJ), (please, NN)], [[('stop', 'VB')]]]        SVO  \n",
       "8   [[(god, NN)], [[('damn', 'VBZ')]], (it, PRP), ...        SOV  \n",
       "10  [(its, PRP$), [(the, DT), (last, JJ), (feed, N...        SOV  \n",
       "14  [(you, PRP), [[('lied', 'VBD')]], (to, TO), (m...        SOV  \n",
       "15  [(you, PRP), [[('told', 'VBD')]], (me, PRP), (...        SOV  "
      ]
     },
     "execution_count": 42,
     "metadata": {},
     "output_type": "execute_result"
    }
   ],
   "source": [
    "ordered_only_df.head()"
   ]
  },
  {
   "cell_type": "markdown",
   "metadata": {},
   "source": [
    "Pickle time!"
   ]
  },
  {
   "cell_type": "code",
   "execution_count": 43,
   "metadata": {},
   "outputs": [],
   "source": [
    "ordered_only_df.to_pickle('ordered_only_df.pkl')"
   ]
  },
  {
   "cell_type": "markdown",
   "metadata": {},
   "source": [
    "And that's it for now...! Time for some data analysis!"
   ]
  }
 ],
 "metadata": {
  "kernelspec": {
   "display_name": "Python 3",
   "language": "python",
   "name": "python3"
  },
  "language_info": {
   "codemirror_mode": {
    "name": "ipython",
    "version": 3
   },
   "file_extension": ".py",
   "mimetype": "text/x-python",
   "name": "python",
   "nbconvert_exporter": "python",
   "pygments_lexer": "ipython3",
   "version": "3.7.1"
  }
 },
 "nbformat": 4,
 "nbformat_minor": 2
}
